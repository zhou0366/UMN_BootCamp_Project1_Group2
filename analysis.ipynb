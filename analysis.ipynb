{
 "cells": [
  {
   "cell_type": "code",
   "execution_count": 3,
   "metadata": {},
   "outputs": [],
   "source": [
    "# add dependencies\n",
    "import pandas as pd"
   ]
  },
  {
   "cell_type": "code",
   "execution_count": 4,
   "metadata": {},
   "outputs": [
    {
     "data": {
      "text/html": [
       "<div>\n",
       "<style scoped>\n",
       "    .dataframe tbody tr th:only-of-type {\n",
       "        vertical-align: middle;\n",
       "    }\n",
       "\n",
       "    .dataframe tbody tr th {\n",
       "        vertical-align: top;\n",
       "    }\n",
       "\n",
       "    .dataframe thead th {\n",
       "        text-align: right;\n",
       "    }\n",
       "</style>\n",
       "<table border=\"1\" class=\"dataframe\">\n",
       "  <thead>\n",
       "    <tr style=\"text-align: right;\">\n",
       "      <th></th>\n",
       "      <th>Unnamed: 0</th>\n",
       "      <th>Country</th>\n",
       "      <th>Water Body ID</th>\n",
       "      <th>Year</th>\n",
       "      <th>Unit of Measure</th>\n",
       "      <th>Value</th>\n",
       "      <th>Population Density</th>\n",
       "      <th>GDP</th>\n",
       "    </tr>\n",
       "  </thead>\n",
       "  <tbody>\n",
       "    <tr>\n",
       "      <th>0</th>\n",
       "      <td>13</td>\n",
       "      <td>France</td>\n",
       "      <td>FRGR0005B</td>\n",
       "      <td>2009</td>\n",
       "      <td>[pH]</td>\n",
       "      <td>7.68919</td>\n",
       "      <td>122.299437</td>\n",
       "      <td>2.806036e+12</td>\n",
       "    </tr>\n",
       "    <tr>\n",
       "      <th>1</th>\n",
       "      <td>16</td>\n",
       "      <td>France</td>\n",
       "      <td>FRGR1496</td>\n",
       "      <td>2009</td>\n",
       "      <td>mg{O2}/L</td>\n",
       "      <td>1.06250</td>\n",
       "      <td>122.299437</td>\n",
       "      <td>2.806036e+12</td>\n",
       "    </tr>\n",
       "    <tr>\n",
       "      <th>2</th>\n",
       "      <td>18</td>\n",
       "      <td>France</td>\n",
       "      <td>FRGR0004A</td>\n",
       "      <td>2009</td>\n",
       "      <td>[pH]</td>\n",
       "      <td>7.63017</td>\n",
       "      <td>122.299437</td>\n",
       "      <td>2.806036e+12</td>\n",
       "    </tr>\n",
       "    <tr>\n",
       "      <th>3</th>\n",
       "      <td>29</td>\n",
       "      <td>France</td>\n",
       "      <td>FRDR173A</td>\n",
       "      <td>2009</td>\n",
       "      <td>mg{O2}/L</td>\n",
       "      <td>1.10833</td>\n",
       "      <td>122.299437</td>\n",
       "      <td>2.806036e+12</td>\n",
       "    </tr>\n",
       "    <tr>\n",
       "      <th>4</th>\n",
       "      <td>31</td>\n",
       "      <td>France</td>\n",
       "      <td>FRGR0173</td>\n",
       "      <td>2009</td>\n",
       "      <td>mg{O2}/L</td>\n",
       "      <td>1.76667</td>\n",
       "      <td>122.299437</td>\n",
       "      <td>2.806036e+12</td>\n",
       "    </tr>\n",
       "  </tbody>\n",
       "</table>\n",
       "</div>"
      ],
      "text/plain": [
       "   Unnamed: 0 Country Water Body ID  Year Unit of Measure    Value  \\\n",
       "0          13  France     FRGR0005B  2009            [pH]  7.68919   \n",
       "1          16  France      FRGR1496  2009        mg{O2}/L  1.06250   \n",
       "2          18  France     FRGR0004A  2009            [pH]  7.63017   \n",
       "3          29  France      FRDR173A  2009        mg{O2}/L  1.10833   \n",
       "4          31  France      FRGR0173  2009        mg{O2}/L  1.76667   \n",
       "\n",
       "   Population Density           GDP  \n",
       "0          122.299437  2.806036e+12  \n",
       "1          122.299437  2.806036e+12  \n",
       "2          122.299437  2.806036e+12  \n",
       "3          122.299437  2.806036e+12  \n",
       "4          122.299437  2.806036e+12  "
      ]
     },
     "execution_count": 4,
     "metadata": {},
     "output_type": "execute_result"
    }
   ],
   "source": [
    "# pull in dataframe\n",
    "clean = pd.read_csv(\"cleaned_data.csv\")\n",
    "clean.head()"
   ]
  },
  {
   "cell_type": "code",
   "execution_count": 5,
   "metadata": {},
   "outputs": [
    {
     "data": {
      "text/plain": [
       "array(['France', 'Spain', 'Lithuania', 'United Kingdom', 'Germany',\n",
       "       'Bulgaria', 'Denmark', 'Italy', 'Finland', 'Ireland', 'Belgium',\n",
       "       'Sweden', 'Portugal', 'Czech Republic', 'Serbia', 'Romania',\n",
       "       'Switzerland', 'Latvia', 'Austria', 'Luxembourg', 'Norway',\n",
       "       'Croatia', 'Belarus'], dtype=object)"
      ]
     },
     "execution_count": 5,
     "metadata": {},
     "output_type": "execute_result"
    }
   ],
   "source": [
    "# determine how many countries are in data\n",
    "clean[\"Country\"].unique()"
   ]
  },
  {
   "cell_type": "code",
   "execution_count": 6,
   "metadata": {},
   "outputs": [],
   "source": [
    "# determine number of years included in the data\n",
    "france_water = clean[(clean['Country'] == 'France')]\n",
    "france_water\n",
    "france_bodies = france_water.groupby('Water Body ID').count()\n"
   ]
  },
  {
   "cell_type": "code",
   "execution_count": null,
   "metadata": {},
   "outputs": [],
   "source": [
    "#eric country cleaning"
   ]
  },
  {
   "cell_type": "code",
   "execution_count": null,
   "metadata": {},
   "outputs": [],
   "source": [
    "#eric country cleaning"
   ]
  },
  {
   "cell_type": "code",
   "execution_count": null,
   "metadata": {},
   "outputs": [],
   "source": [
    "#eric country cleaning"
   ]
  },
  {
   "cell_type": "code",
   "execution_count": null,
   "metadata": {},
   "outputs": [],
   "source": [
    "#eric country cleaning"
   ]
  },
  {
   "cell_type": "code",
   "execution_count": null,
   "metadata": {},
   "outputs": [],
   "source": [
    "#eric country cleaning"
   ]
  },
  {
   "cell_type": "code",
   "execution_count": null,
   "metadata": {},
   "outputs": [],
   "source": [
    "#eric country cleaning"
   ]
  },
  {
   "cell_type": "code",
   "execution_count": null,
   "metadata": {},
   "outputs": [],
   "source": [
    "#eric country cleaning"
   ]
  },
  {
   "cell_type": "code",
   "execution_count": 46,
   "metadata": {},
   "outputs": [],
   "source": [
    "# nora population density\n",
    "import matplotlib.pyplot as plt\n",
    "import numpy as np\n",
    "import scipy.stats as st"
   ]
  },
  {
   "cell_type": "code",
   "execution_count": 40,
   "metadata": {},
   "outputs": [
    {
     "data": {
      "image/png": "[encoded data removed]",
      "text/plain": [
       "<Figure size 640x480 with 1 Axes>"
      ]
     },
     "metadata": {},
     "output_type": "display_data"
    }
   ],
   "source": [
    "# nora\n",
    "x_axis = clean[\"Country\"]\n",
    "y_axis = clean[\"Population Density\"]\n",
    "\n",
    "plt.bar(x_axis, y_axis, color=\"pink\", align=\"center\")\n",
    "plt.xticks(rotation=90)\n",
    "plt.xlabel(\"Country\")\n",
    "plt.ylabel(\"Population Density (in ppl per sq km)\")\n",
    "plt.title(\"Population Density by Country\")\n",
    "plt.show()"
   ]
  },
  {
   "cell_type": "code",
   "execution_count": 74,
   "metadata": {},
   "outputs": [
    {
     "data": {
      "text/html": [
       "<div>\n",
       "<style scoped>\n",
       "    .dataframe tbody tr th:only-of-type {\n",
       "        vertical-align: middle;\n",
       "    }\n",
       "\n",
       "    .dataframe tbody tr th {\n",
       "        vertical-align: top;\n",
       "    }\n",
       "\n",
       "    .dataframe thead th {\n",
       "        text-align: right;\n",
       "    }\n",
       "</style>\n",
       "<table border=\"1\" class=\"dataframe\">\n",
       "  <thead>\n",
       "    <tr style=\"text-align: right;\">\n",
       "      <th></th>\n",
       "      <th>Population Density</th>\n",
       "      <th>Avg Oxygen Levels (in mg{O2}/L)</th>\n",
       "    </tr>\n",
       "    <tr>\n",
       "      <th>Country</th>\n",
       "      <th></th>\n",
       "      <th></th>\n",
       "    </tr>\n",
       "  </thead>\n",
       "  <tbody>\n",
       "    <tr>\n",
       "      <th>Austria</th>\n",
       "      <td>107.127967</td>\n",
       "      <td>3.714332</td>\n",
       "    </tr>\n",
       "    <tr>\n",
       "      <th>Belarus</th>\n",
       "      <td>46.719504</td>\n",
       "      <td>1.070000</td>\n",
       "    </tr>\n",
       "    <tr>\n",
       "      <th>Belgium</th>\n",
       "      <td>377.379590</td>\n",
       "      <td>5.824079</td>\n",
       "    </tr>\n",
       "    <tr>\n",
       "      <th>Bulgaria</th>\n",
       "      <td>64.711100</td>\n",
       "      <td>7.863195</td>\n",
       "    </tr>\n",
       "    <tr>\n",
       "      <th>Croatia</th>\n",
       "      <td>73.049375</td>\n",
       "      <td>4.666667</td>\n",
       "    </tr>\n",
       "    <tr>\n",
       "      <th>Czech Republic</th>\n",
       "      <td>137.657705</td>\n",
       "      <td>8.975000</td>\n",
       "    </tr>\n",
       "    <tr>\n",
       "      <th>Denmark</th>\n",
       "      <td>137.976566</td>\n",
       "      <td>1.318566</td>\n",
       "    </tr>\n",
       "    <tr>\n",
       "      <th>Finland</th>\n",
       "      <td>18.148547</td>\n",
       "      <td>12.626858</td>\n",
       "    </tr>\n",
       "    <tr>\n",
       "      <th>France</th>\n",
       "      <td>122.299437</td>\n",
       "      <td>3.769420</td>\n",
       "    </tr>\n",
       "    <tr>\n",
       "      <th>Germany</th>\n",
       "      <td>237.307597</td>\n",
       "      <td>2.702537</td>\n",
       "    </tr>\n",
       "    <tr>\n",
       "      <th>Ireland</th>\n",
       "      <td>70.653448</td>\n",
       "      <td>1.444126</td>\n",
       "    </tr>\n",
       "    <tr>\n",
       "      <th>Italy</th>\n",
       "      <td>205.418372</td>\n",
       "      <td>4.536104</td>\n",
       "    </tr>\n",
       "    <tr>\n",
       "      <th>Latvia</th>\n",
       "      <td>30.993471</td>\n",
       "      <td>1.291113</td>\n",
       "    </tr>\n",
       "    <tr>\n",
       "      <th>Lithuania</th>\n",
       "      <td>44.723076</td>\n",
       "      <td>17.197577</td>\n",
       "    </tr>\n",
       "    <tr>\n",
       "      <th>Luxembourg</th>\n",
       "      <td>250.185185</td>\n",
       "      <td>2.000000</td>\n",
       "    </tr>\n",
       "    <tr>\n",
       "      <th>Portugal</th>\n",
       "      <td>112.261941</td>\n",
       "      <td>7.145629</td>\n",
       "    </tr>\n",
       "    <tr>\n",
       "      <th>Romania</th>\n",
       "      <td>84.633801</td>\n",
       "      <td>7.229668</td>\n",
       "    </tr>\n",
       "    <tr>\n",
       "      <th>Serbia</th>\n",
       "      <td>79.837686</td>\n",
       "      <td>3.373009</td>\n",
       "    </tr>\n",
       "    <tr>\n",
       "      <th>Spain</th>\n",
       "      <td>93.677197</td>\n",
       "      <td>5.867498</td>\n",
       "    </tr>\n",
       "    <tr>\n",
       "      <th>Sweden</th>\n",
       "      <td>24.981498</td>\n",
       "      <td>8.942222</td>\n",
       "    </tr>\n",
       "    <tr>\n",
       "      <th>Switzerland</th>\n",
       "      <td>215.465350</td>\n",
       "      <td>3.450000</td>\n",
       "    </tr>\n",
       "    <tr>\n",
       "      <th>United Kingdom</th>\n",
       "      <td>274.708982</td>\n",
       "      <td>2.432102</td>\n",
       "    </tr>\n",
       "  </tbody>\n",
       "</table>\n",
       "</div>"
      ],
      "text/plain": [
       "                Population Density  Avg Oxygen Levels (in mg{O2}/L)\n",
       "Country                                                            \n",
       "Austria                 107.127967                         3.714332\n",
       "Belarus                  46.719504                         1.070000\n",
       "Belgium                 377.379590                         5.824079\n",
       "Bulgaria                 64.711100                         7.863195\n",
       "Croatia                  73.049375                         4.666667\n",
       "Czech Republic          137.657705                         8.975000\n",
       "Denmark                 137.976566                         1.318566\n",
       "Finland                  18.148547                        12.626858\n",
       "France                  122.299437                         3.769420\n",
       "Germany                 237.307597                         2.702537\n",
       "Ireland                  70.653448                         1.444126\n",
       "Italy                   205.418372                         4.536104\n",
       "Latvia                   30.993471                         1.291113\n",
       "Lithuania                44.723076                        17.197577\n",
       "Luxembourg              250.185185                         2.000000\n",
       "Portugal                112.261941                         7.145629\n",
       "Romania                  84.633801                         7.229668\n",
       "Serbia                   79.837686                         3.373009\n",
       "Spain                    93.677197                         5.867498\n",
       "Sweden                   24.981498                         8.942222\n",
       "Switzerland             215.465350                         3.450000\n",
       "United Kingdom          274.708982                         2.432102"
      ]
     },
     "execution_count": 74,
     "metadata": {},
     "output_type": "execute_result"
    }
   ],
   "source": [
    "# nora\n",
    "oxy_data = clean.loc[clean[\"Unit of Measure\"] == \"mg{O2}/L\", :]\n",
    "oxy_country = oxy_data.set_index(\"Country\").groupby([\"Country\"])\n",
    "oxy_country_mean = oxy_country[\"Value\"].mean()\n",
    "oxy_popden = oxy_country[\"Population Density\"].mean()\n",
    "oxy_summary = pd.DataFrame({\"Population Density\": oxy_popden, \"Avg Oxygen Levels (in mg{O2}/L)\": oxy_country_mean,})\n",
    "oxy_summary"
   ]
  },
  {
   "cell_type": "code",
   "execution_count": 83,
   "metadata": {},
   "outputs": [
    {
     "name": "stdout",
     "output_type": "stream",
     "text": [
      "The correlation between population density and the average dissolved oxygen is -0.32\n"
     ]
    },
    {
     "data": {
      "image/png": "[encoded data removed]",
      "text/plain": [
       "<Figure size 640x480 with 1 Axes>"
      ]
     },
     "metadata": {},
     "output_type": "display_data"
    }
   ],
   "source": [
    "# nora\n",
    "(slope, intercept,rvalue, pvalue, stderr) = st.linregress(oxy_summary[\"Population Density\"],oxy_summary[\"Avg Oxygen Levels (in mg{O2}/L)\"])\n",
    "regress_oxyvalues = oxy_summary[\"Population Density\"] * slope + intercept\n",
    "line_eq = f\"y = {round(slope, 2)} x + {round(intercept, 2)}\"\n",
    "\n",
    "#calculate correlation coefficient\n",
    "co_oxy = st.pearsonr(oxy_summary[\"Population Density\"],oxy_summary[\"Avg Oxygen Levels (in mg{O2}/L)\"])\n",
    "print(f\"The correlation between population density and the average dissolved oxygen is {round(co_oxy[0],2)}\")\n",
    "\n",
    "#make pH scatterplot\n",
    "x_axis = oxy_summary[\"Population Density\"]\n",
    "y_axis = oxy_summary[\"Avg Oxygen Levels (in mg{O2}/L)\"]\n",
    "plt.scatter(x_axis, y_axis, marker='o', facecolors='cyan', edgecolors='purple', alpha=0.75)\n",
    "plt.title('Population Density vs. Avg Oxygen Levels (in mg{O2}/L)')\n",
    "plt.xlabel('Population Density')\n",
    "plt.ylabel('Avg Oxygen Levels (in mg{O2}/L)')\n",
    "plt.plot(oxy_summary[\"Population Density\"], regress_oxyvalues, color=\"black\")\n",
    "plt.show()"
   ]
  },
  {
   "cell_type": "code",
   "execution_count": 76,
   "metadata": {},
   "outputs": [
    {
     "data": {
      "text/html": [
       "<div>\n",
       "<style scoped>\n",
       "    .dataframe tbody tr th:only-of-type {\n",
       "        vertical-align: middle;\n",
       "    }\n",
       "\n",
       "    .dataframe tbody tr th {\n",
       "        vertical-align: top;\n",
       "    }\n",
       "\n",
       "    .dataframe thead th {\n",
       "        text-align: right;\n",
       "    }\n",
       "</style>\n",
       "<table border=\"1\" class=\"dataframe\">\n",
       "  <thead>\n",
       "    <tr style=\"text-align: right;\">\n",
       "      <th></th>\n",
       "      <th>Population Density</th>\n",
       "      <th>Avg Water Temp (in deg Celsius)</th>\n",
       "    </tr>\n",
       "    <tr>\n",
       "      <th>Country</th>\n",
       "      <th></th>\n",
       "      <th></th>\n",
       "    </tr>\n",
       "  </thead>\n",
       "  <tbody>\n",
       "    <tr>\n",
       "      <th>Austria</th>\n",
       "      <td>107.127967</td>\n",
       "      <td>10.822500</td>\n",
       "    </tr>\n",
       "    <tr>\n",
       "      <th>Belgium</th>\n",
       "      <td>377.379590</td>\n",
       "      <td>11.623625</td>\n",
       "    </tr>\n",
       "    <tr>\n",
       "      <th>Bulgaria</th>\n",
       "      <td>64.711100</td>\n",
       "      <td>13.821118</td>\n",
       "    </tr>\n",
       "    <tr>\n",
       "      <th>Croatia</th>\n",
       "      <td>73.049375</td>\n",
       "      <td>12.800000</td>\n",
       "    </tr>\n",
       "    <tr>\n",
       "      <th>Finland</th>\n",
       "      <td>18.148547</td>\n",
       "      <td>9.736109</td>\n",
       "    </tr>\n",
       "    <tr>\n",
       "      <th>France</th>\n",
       "      <td>122.299437</td>\n",
       "      <td>12.083606</td>\n",
       "    </tr>\n",
       "    <tr>\n",
       "      <th>Germany</th>\n",
       "      <td>237.307597</td>\n",
       "      <td>12.326872</td>\n",
       "    </tr>\n",
       "    <tr>\n",
       "      <th>Ireland</th>\n",
       "      <td>70.653448</td>\n",
       "      <td>9.770577</td>\n",
       "    </tr>\n",
       "    <tr>\n",
       "      <th>Italy</th>\n",
       "      <td>205.418372</td>\n",
       "      <td>16.337430</td>\n",
       "    </tr>\n",
       "    <tr>\n",
       "      <th>Latvia</th>\n",
       "      <td>30.993471</td>\n",
       "      <td>7.440807</td>\n",
       "    </tr>\n",
       "    <tr>\n",
       "      <th>Lithuania</th>\n",
       "      <td>44.723076</td>\n",
       "      <td>9.064583</td>\n",
       "    </tr>\n",
       "    <tr>\n",
       "      <th>Norway</th>\n",
       "      <td>14.548292</td>\n",
       "      <td>16.050000</td>\n",
       "    </tr>\n",
       "    <tr>\n",
       "      <th>Portugal</th>\n",
       "      <td>112.261941</td>\n",
       "      <td>15.377767</td>\n",
       "    </tr>\n",
       "    <tr>\n",
       "      <th>Romania</th>\n",
       "      <td>84.633801</td>\n",
       "      <td>10.750000</td>\n",
       "    </tr>\n",
       "    <tr>\n",
       "      <th>Serbia</th>\n",
       "      <td>79.837686</td>\n",
       "      <td>12.798023</td>\n",
       "    </tr>\n",
       "    <tr>\n",
       "      <th>Spain</th>\n",
       "      <td>93.677197</td>\n",
       "      <td>13.589705</td>\n",
       "    </tr>\n",
       "    <tr>\n",
       "      <th>Switzerland</th>\n",
       "      <td>215.465350</td>\n",
       "      <td>7.329957</td>\n",
       "    </tr>\n",
       "    <tr>\n",
       "      <th>United Kingdom</th>\n",
       "      <td>274.708982</td>\n",
       "      <td>9.789306</td>\n",
       "    </tr>\n",
       "  </tbody>\n",
       "</table>\n",
       "</div>"
      ],
      "text/plain": [
       "                Population Density  Avg Water Temp (in deg Celsius)\n",
       "Country                                                            \n",
       "Austria                 107.127967                        10.822500\n",
       "Belgium                 377.379590                        11.623625\n",
       "Bulgaria                 64.711100                        13.821118\n",
       "Croatia                  73.049375                        12.800000\n",
       "Finland                  18.148547                         9.736109\n",
       "France                  122.299437                        12.083606\n",
       "Germany                 237.307597                        12.326872\n",
       "Ireland                  70.653448                         9.770577\n",
       "Italy                   205.418372                        16.337430\n",
       "Latvia                   30.993471                         7.440807\n",
       "Lithuania                44.723076                         9.064583\n",
       "Norway                   14.548292                        16.050000\n",
       "Portugal                112.261941                        15.377767\n",
       "Romania                  84.633801                        10.750000\n",
       "Serbia                   79.837686                        12.798023\n",
       "Spain                    93.677197                        13.589705\n",
       "Switzerland             215.465350                         7.329957\n",
       "United Kingdom          274.708982                         9.789306"
      ]
     },
     "execution_count": 76,
     "metadata": {},
     "output_type": "execute_result"
    }
   ],
   "source": [
    "# nora\n",
    "temp_data = clean.loc[clean[\"Unit of Measure\"] == \"Cel\", :]\n",
    "temp_country = temp_data.set_index(\"Country\").groupby([\"Country\"])\n",
    "temp_country_mean = temp_country[\"Value\"].mean()\n",
    "temp_popden = temp_country[\"Population Density\"].mean()\n",
    "temp_country_mean\n",
    "temp_summary = pd.DataFrame({\"Population Density\": temp_popden, \"Avg Water Temp (in deg Celsius)\": temp_country_mean,})\n",
    "temp_summary"
   ]
  },
  {
   "cell_type": "code",
   "execution_count": 81,
   "metadata": {},
   "outputs": [
    {
     "name": "stdout",
     "output_type": "stream",
     "text": [
      "The correlation between population density and the average water temperature is -0.02\n"
     ]
    },
    {
     "data": {
      "image/png": "[encoded data removed]",
      "text/plain": [
       "<Figure size 640x480 with 1 Axes>"
      ]
     },
     "metadata": {},
     "output_type": "display_data"
    }
   ],
   "source": [
    "# nora\n",
    "(slope, intercept,rvalue, pvalue, stderr) = st.linregress(temp_summary[\"Population Density\"],temp_summary[\"Avg Water Temp (in deg Celsius)\"])\n",
    "regress_tempvalues = temp_summary[\"Population Density\"] * slope + intercept\n",
    "line_eq = f\"y = {round(slope, 2)} x + {round(intercept, 2)}\"\n",
    "\n",
    "#calculate correlation coefficient\n",
    "co_temp = st.pearsonr(temp_summary[\"Population Density\"],temp_summary[\"Avg Water Temp (in deg Celsius)\"])\n",
    "print(f\"The correlation between population density and the average water temperature is {round(co_temp[0],2)}\")\n",
    "\n",
    "#make pH scatterplot\n",
    "x_axis = temp_summary[\"Population Density\"]\n",
    "y_axis = temp_summary[\"Avg Water Temp (in deg Celsius)\"]\n",
    "plt.scatter(x_axis, y_axis, marker='o', facecolors='orange', edgecolors='red', alpha=0.75)\n",
    "plt.title('Population Density vs. Avg Water Temp (C)')\n",
    "plt.xlabel('Population Density')\n",
    "plt.ylabel('Avg Water Temp (in deg Celsius)')\n",
    "plt.plot(temp_summary[\"Population Density\"], regress_tempvalues, color=\"black\")\n",
    "plt.show()\n"
   ]
  },
  {
   "cell_type": "code",
   "execution_count": 78,
   "metadata": {},
   "outputs": [
    {
     "data": {
      "text/html": [
       "<div>\n",
       "<style scoped>\n",
       "    .dataframe tbody tr th:only-of-type {\n",
       "        vertical-align: middle;\n",
       "    }\n",
       "\n",
       "    .dataframe tbody tr th {\n",
       "        vertical-align: top;\n",
       "    }\n",
       "\n",
       "    .dataframe thead th {\n",
       "        text-align: right;\n",
       "    }\n",
       "</style>\n",
       "<table border=\"1\" class=\"dataframe\">\n",
       "  <thead>\n",
       "    <tr style=\"text-align: right;\">\n",
       "      <th></th>\n",
       "      <th>Population Density</th>\n",
       "      <th>Avg Water pH</th>\n",
       "    </tr>\n",
       "    <tr>\n",
       "      <th>Country</th>\n",
       "      <th></th>\n",
       "      <th></th>\n",
       "    </tr>\n",
       "  </thead>\n",
       "  <tbody>\n",
       "    <tr>\n",
       "      <th>Austria</th>\n",
       "      <td>107.127967</td>\n",
       "      <td>8.221665</td>\n",
       "    </tr>\n",
       "    <tr>\n",
       "      <th>Belgium</th>\n",
       "      <td>377.379590</td>\n",
       "      <td>7.771786</td>\n",
       "    </tr>\n",
       "    <tr>\n",
       "      <th>Bulgaria</th>\n",
       "      <td>64.711100</td>\n",
       "      <td>7.954444</td>\n",
       "    </tr>\n",
       "    <tr>\n",
       "      <th>Croatia</th>\n",
       "      <td>73.049375</td>\n",
       "      <td>7.900000</td>\n",
       "    </tr>\n",
       "    <tr>\n",
       "      <th>Finland</th>\n",
       "      <td>18.148547</td>\n",
       "      <td>6.745819</td>\n",
       "    </tr>\n",
       "    <tr>\n",
       "      <th>France</th>\n",
       "      <td>122.299437</td>\n",
       "      <td>7.751359</td>\n",
       "    </tr>\n",
       "    <tr>\n",
       "      <th>Germany</th>\n",
       "      <td>237.307597</td>\n",
       "      <td>7.827198</td>\n",
       "    </tr>\n",
       "    <tr>\n",
       "      <th>Ireland</th>\n",
       "      <td>70.653448</td>\n",
       "      <td>7.266670</td>\n",
       "    </tr>\n",
       "    <tr>\n",
       "      <th>Italy</th>\n",
       "      <td>205.418372</td>\n",
       "      <td>8.008182</td>\n",
       "    </tr>\n",
       "    <tr>\n",
       "      <th>Lithuania</th>\n",
       "      <td>44.723076</td>\n",
       "      <td>7.985885</td>\n",
       "    </tr>\n",
       "    <tr>\n",
       "      <th>Norway</th>\n",
       "      <td>14.548292</td>\n",
       "      <td>7.335300</td>\n",
       "    </tr>\n",
       "    <tr>\n",
       "      <th>Portugal</th>\n",
       "      <td>112.261941</td>\n",
       "      <td>7.760400</td>\n",
       "    </tr>\n",
       "    <tr>\n",
       "      <th>Romania</th>\n",
       "      <td>84.633801</td>\n",
       "      <td>7.105714</td>\n",
       "    </tr>\n",
       "    <tr>\n",
       "      <th>Serbia</th>\n",
       "      <td>79.837686</td>\n",
       "      <td>8.121712</td>\n",
       "    </tr>\n",
       "    <tr>\n",
       "      <th>Spain</th>\n",
       "      <td>93.677197</td>\n",
       "      <td>7.590451</td>\n",
       "    </tr>\n",
       "    <tr>\n",
       "      <th>Sweden</th>\n",
       "      <td>24.981498</td>\n",
       "      <td>7.100625</td>\n",
       "    </tr>\n",
       "    <tr>\n",
       "      <th>Switzerland</th>\n",
       "      <td>215.465350</td>\n",
       "      <td>8.220620</td>\n",
       "    </tr>\n",
       "    <tr>\n",
       "      <th>United Kingdom</th>\n",
       "      <td>274.708982</td>\n",
       "      <td>7.500971</td>\n",
       "    </tr>\n",
       "  </tbody>\n",
       "</table>\n",
       "</div>"
      ],
      "text/plain": [
       "                Population Density  Avg Water pH\n",
       "Country                                         \n",
       "Austria                 107.127967      8.221665\n",
       "Belgium                 377.379590      7.771786\n",
       "Bulgaria                 64.711100      7.954444\n",
       "Croatia                  73.049375      7.900000\n",
       "Finland                  18.148547      6.745819\n",
       "France                  122.299437      7.751359\n",
       "Germany                 237.307597      7.827198\n",
       "Ireland                  70.653448      7.266670\n",
       "Italy                   205.418372      8.008182\n",
       "Lithuania                44.723076      7.985885\n",
       "Norway                   14.548292      7.335300\n",
       "Portugal                112.261941      7.760400\n",
       "Romania                  84.633801      7.105714\n",
       "Serbia                   79.837686      8.121712\n",
       "Spain                    93.677197      7.590451\n",
       "Sweden                   24.981498      7.100625\n",
       "Switzerland             215.465350      8.220620\n",
       "United Kingdom          274.708982      7.500971"
      ]
     },
     "execution_count": 78,
     "metadata": {},
     "output_type": "execute_result"
    }
   ],
   "source": [
    "# nora\n",
    "ph_data = clean.loc[clean[\"Unit of Measure\"] == \"[pH]\", :]\n",
    "ph_country = ph_data.set_index(\"Country\").groupby([\"Country\"])\n",
    "ph_country_mean = ph_country[\"Value\"].mean()\n",
    "ph_popden = ph_country[\"Population Density\"].mean()\n",
    "ph_country_mean\n",
    "ph_summary = pd.DataFrame({\"Population Density\": ph_popden, \"Avg Water pH\": ph_country_mean,})\n",
    "ph_summary"
   ]
  },
  {
   "cell_type": "code",
   "execution_count": 82,
   "metadata": {},
   "outputs": [
    {
     "name": "stdout",
     "output_type": "stream",
     "text": [
      "The correlation between population density and the average water pH is 0.35\n"
     ]
    },
    {
     "data": {
      "image/png": "[encoded data removed]",
      "text/plain": [
       "<Figure size 640x480 with 1 Axes>"
      ]
     },
     "metadata": {},
     "output_type": "display_data"
    }
   ],
   "source": [
    "# nora\n",
    "(slope, intercept,rvalue, pvalue, stderr) = st.linregress(ph_summary[\"Population Density\"],ph_summary[\"Avg Water pH\"])\n",
    "regress_values = ph_summary[\"Population Density\"] * slope + intercept\n",
    "line_eq = f\"y = {round(slope, 2)} x + {round(intercept, 2)}\"\n",
    "\n",
    "#calculate correlation coefficient\n",
    "co_ph = st.pearsonr(ph_summary[\"Population Density\"],ph_summary[\"Avg Water pH\"])\n",
    "print(f\"The correlation between population density and the average water pH is {round(co_ph[0],2)}\")\n",
    "\n",
    "#make pH scatterplot\n",
    "x_axis = ph_summary[\"Population Density\"]\n",
    "y_axis = ph_summary[\"Avg Water pH\"]\n",
    "plt.scatter(x_axis, y_axis, marker='o', facecolors='yellow', edgecolors='green', alpha=0.75)\n",
    "plt.title('Population Density vs. Mean Water pH')\n",
    "plt.xlabel('Population Density')\n",
    "plt.ylabel('Mean Water pH')\n",
    "plt.plot(ph_summary[\"Population Density\"], regress_values, color=\"black\")\n",
    "plt.show()"
   ]
  },
  {
   "cell_type": "code",
   "execution_count": null,
   "metadata": {},
   "outputs": [],
   "source": [
    "# chris gdp"
   ]
  },
  {
   "cell_type": "code",
   "execution_count": null,
   "metadata": {},
   "outputs": [],
   "source": [
    "# chris gdp"
   ]
  },
  {
   "cell_type": "code",
   "execution_count": null,
   "metadata": {},
   "outputs": [],
   "source": [
    "# chris gdp"
   ]
  },
  {
   "cell_type": "code",
   "execution_count": null,
   "metadata": {},
   "outputs": [],
   "source": [
    "# chris gdp"
   ]
  },
  {
   "cell_type": "code",
   "execution_count": null,
   "metadata": {},
   "outputs": [],
   "source": [
    "# chris gdp"
   ]
  },
  {
   "cell_type": "code",
   "execution_count": null,
   "metadata": {},
   "outputs": [],
   "source": [
    "# chris gdp"
   ]
  },
  {
   "cell_type": "code",
   "execution_count": null,
   "metadata": {},
   "outputs": [],
   "source": [
    "# chris gdp"
   ]
  },
  {
   "cell_type": "code",
   "execution_count": null,
   "metadata": {},
   "outputs": [],
   "source": [
    "# chris gdp"
   ]
  },
  {
   "cell_type": "code",
   "execution_count": null,
   "metadata": {},
   "outputs": [],
   "source": []
  },
  {
   "cell_type": "code",
   "execution_count": null,
   "metadata": {},
   "outputs": [],
   "source": []
  },
  {
   "cell_type": "code",
   "execution_count": null,
   "metadata": {},
   "outputs": [],
   "source": []
  },
  {
   "cell_type": "code",
   "execution_count": null,
   "metadata": {},
   "outputs": [],
   "source": []
  },
  {
   "cell_type": "code",
   "execution_count": null,
   "metadata": {},
   "outputs": [],
   "source": []
  },
  {
   "cell_type": "code",
   "execution_count": null,
   "metadata": {},
   "outputs": [],
   "source": []
  },
  {
   "cell_type": "code",
   "execution_count": null,
   "metadata": {},
   "outputs": [],
   "source": []
  },
  {
   "cell_type": "code",
   "execution_count": null,
   "metadata": {},
   "outputs": [],
   "source": []
  },
  {
   "cell_type": "code",
   "execution_count": null,
   "metadata": {},
   "outputs": [],
   "source": []
  },
  {
   "cell_type": "code",
   "execution_count": null,
   "metadata": {},
   "outputs": [],
   "source": []
  },
  {
   "cell_type": "code",
   "execution_count": null,
   "metadata": {},
   "outputs": [],
   "source": []
  },
  {
   "cell_type": "code",
   "execution_count": null,
   "metadata": {},
   "outputs": [],
   "source": []
  },
  {
   "cell_type": "code",
   "execution_count": null,
   "metadata": {},
   "outputs": [],
   "source": []
  },
  {
   "cell_type": "code",
   "execution_count": null,
   "metadata": {},
   "outputs": [],
   "source": []
  },
  {
   "cell_type": "code",
   "execution_count": null,
   "metadata": {},
   "outputs": [],
   "source": []
  },
  {
   "cell_type": "code",
   "execution_count": null,
   "metadata": {},
   "outputs": [],
   "source": []
  },
  {
   "cell_type": "code",
   "execution_count": null,
   "metadata": {},
   "outputs": [],
   "source": []
  },
  {
   "cell_type": "code",
   "execution_count": null,
   "metadata": {},
   "outputs": [],
   "source": []
  },
  {
   "cell_type": "code",
   "execution_count": null,
   "metadata": {},
   "outputs": [],
   "source": []
  },
  {
   "cell_type": "code",
   "execution_count": null,
   "metadata": {},
   "outputs": [],
   "source": []
  },
  {
   "cell_type": "code",
   "execution_count": null,
   "metadata": {},
   "outputs": [],
   "source": []
  },
  {
   "cell_type": "code",
   "execution_count": null,
   "metadata": {},
   "outputs": [],
   "source": []
  },
  {
   "cell_type": "code",
   "execution_count": null,
   "metadata": {},
   "outputs": [],
   "source": []
  },
  {
   "cell_type": "code",
   "execution_count": null,
   "metadata": {},
   "outputs": [],
   "source": []
  },
  {
   "cell_type": "code",
   "execution_count": null,
   "metadata": {},
   "outputs": [],
   "source": []
  },
  {
   "cell_type": "code",
   "execution_count": null,
   "metadata": {},
   "outputs": [],
   "source": []
  },
  {
   "cell_type": "code",
   "execution_count": null,
   "metadata": {},
   "outputs": [],
   "source": []
  },
  {
   "cell_type": "code",
   "execution_count": null,
   "metadata": {},
   "outputs": [],
   "source": []
  },
  {
   "cell_type": "code",
   "execution_count": null,
   "metadata": {},
   "outputs": [],
   "source": []
  },
  {
   "cell_type": "code",
   "execution_count": null,
   "metadata": {},
   "outputs": [],
   "source": []
  },
  {
   "cell_type": "code",
   "execution_count": null,
   "metadata": {},
   "outputs": [],
   "source": []
  },
  {
   "cell_type": "code",
   "execution_count": null,
   "metadata": {},
   "outputs": [],
   "source": []
  },
  {
   "cell_type": "code",
   "execution_count": null,
   "metadata": {},
   "outputs": [],
   "source": []
  },
  {
   "cell_type": "code",
   "execution_count": null,
   "metadata": {},
   "outputs": [],
   "source": []
  },
  {
   "cell_type": "code",
   "execution_count": null,
   "metadata": {},
   "outputs": [],
   "source": []
  },
  {
   "cell_type": "code",
   "execution_count": null,
   "metadata": {},
   "outputs": [],
   "source": []
  },
  {
   "cell_type": "code",
   "execution_count": null,
   "metadata": {},
   "outputs": [],
   "source": []
  },
  {
   "cell_type": "code",
   "execution_count": null,
   "metadata": {},
   "outputs": [],
   "source": []
  },
  {
   "cell_type": "code",
   "execution_count": null,
   "metadata": {},
   "outputs": [],
   "source": []
  },
  {
   "cell_type": "code",
   "execution_count": null,
   "metadata": {},
   "outputs": [],
   "source": []
  },
  {
   "cell_type": "code",
   "execution_count": null,
   "metadata": {},
   "outputs": [],
   "source": []
  },
  {
   "cell_type": "code",
   "execution_count": null,
   "metadata": {},
   "outputs": [],
   "source": []
  },
  {
   "cell_type": "code",
   "execution_count": null,
   "metadata": {},
   "outputs": [],
   "source": []
  },
  {
   "cell_type": "code",
   "execution_count": null,
   "metadata": {},
   "outputs": [],
   "source": []
  },
  {
   "cell_type": "code",
   "execution_count": null,
   "metadata": {},
   "outputs": [],
   "source": []
  },
  {
   "cell_type": "code",
   "execution_count": null,
   "metadata": {},
   "outputs": [],
   "source": []
  },
  {
   "cell_type": "code",
   "execution_count": null,
   "metadata": {},
   "outputs": [],
   "source": []
  },
  {
   "cell_type": "code",
   "execution_count": null,
   "metadata": {},
   "outputs": [],
   "source": []
  },
  {
   "cell_type": "code",
   "execution_count": null,
   "metadata": {},
   "outputs": [],
   "source": []
  },
  {
   "cell_type": "code",
   "execution_count": null,
   "metadata": {},
   "outputs": [],
   "source": []
  },
  {
   "cell_type": "code",
   "execution_count": null,
   "metadata": {},
   "outputs": [],
   "source": []
  },
  {
   "cell_type": "code",
   "execution_count": null,
   "metadata": {},
   "outputs": [],
   "source": []
  },
  {
   "cell_type": "code",
   "execution_count": null,
   "metadata": {},
   "outputs": [],
   "source": []
  },
  {
   "cell_type": "code",
   "execution_count": null,
   "metadata": {},
   "outputs": [],
   "source": []
  },
  {
   "cell_type": "code",
   "execution_count": null,
   "metadata": {},
   "outputs": [],
   "source": []
  },
  {
   "cell_type": "code",
   "execution_count": null,
   "metadata": {},
   "outputs": [],
   "source": []
  },
  {
   "cell_type": "code",
   "execution_count": null,
   "metadata": {},
   "outputs": [],
   "source": []
  },
  {
   "cell_type": "code",
   "execution_count": null,
   "metadata": {},
   "outputs": [],
   "source": []
  },
  {
   "cell_type": "code",
   "execution_count": null,
   "metadata": {},
   "outputs": [],
   "source": []
  },
  {
   "cell_type": "code",
   "execution_count": null,
   "metadata": {},
   "outputs": [],
   "source": []
  },
  {
   "cell_type": "code",
   "execution_count": null,
   "metadata": {},
   "outputs": [],
   "source": []
  },
  {
   "cell_type": "code",
   "execution_count": null,
   "metadata": {},
   "outputs": [],
   "source": []
  },
  {
   "cell_type": "code",
   "execution_count": null,
   "metadata": {},
   "outputs": [],
   "source": []
  },
  {
   "cell_type": "code",
   "execution_count": null,
   "metadata": {},
   "outputs": [],
   "source": []
  },
  {
   "cell_type": "code",
   "execution_count": null,
   "metadata": {},
   "outputs": [],
   "source": []
  },
  {
   "cell_type": "code",
   "execution_count": null,
   "metadata": {},
   "outputs": [],
   "source": []
  },
  {
   "cell_type": "code",
   "execution_count": null,
   "metadata": {},
   "outputs": [],
   "source": []
  },
  {
   "cell_type": "code",
   "execution_count": null,
   "metadata": {},
   "outputs": [],
   "source": []
  },
  {
   "cell_type": "code",
   "execution_count": null,
   "metadata": {},
   "outputs": [],
   "source": []
  },
  {
   "cell_type": "code",
   "execution_count": null,
   "metadata": {},
   "outputs": [],
   "source": []
  },
  {
   "cell_type": "code",
   "execution_count": null,
   "metadata": {},
   "outputs": [],
   "source": []
  },
  {
   "cell_type": "code",
   "execution_count": null,
   "metadata": {},
   "outputs": [],
   "source": []
  },
  {
   "cell_type": "code",
   "execution_count": null,
   "metadata": {},
   "outputs": [],
   "source": []
  },
  {
   "cell_type": "code",
   "execution_count": null,
   "metadata": {},
   "outputs": [],
   "source": []
  },
  {
   "cell_type": "code",
   "execution_count": null,
   "metadata": {},
   "outputs": [],
   "source": []
  },
  {
   "cell_type": "code",
   "execution_count": null,
   "metadata": {},
   "outputs": [],
   "source": []
  },
  {
   "cell_type": "code",
   "execution_count": null,
   "metadata": {},
   "outputs": [],
   "source": []
  },
  {
   "cell_type": "code",
   "execution_count": null,
   "metadata": {},
   "outputs": [],
   "source": []
  },
  {
   "cell_type": "code",
   "execution_count": null,
   "metadata": {},
   "outputs": [],
   "source": []
  },
  {
   "cell_type": "code",
   "execution_count": null,
   "metadata": {},
   "outputs": [],
   "source": []
  },
  {
   "cell_type": "markdown",
   "metadata": {},
   "source": []
  },
  {
   "cell_type": "code",
   "execution_count": null,
   "metadata": {},
   "outputs": [],
   "source": []
  },
  {
   "cell_type": "code",
   "execution_count": null,
   "metadata": {},
   "outputs": [],
   "source": []
  },
  {
   "cell_type": "code",
   "execution_count": null,
   "metadata": {},
   "outputs": [],
   "source": []
  },
  {
   "cell_type": "code",
   "execution_count": null,
   "metadata": {},
   "outputs": [],
   "source": []
  },
  {
   "cell_type": "code",
   "execution_count": null,
   "metadata": {},
   "outputs": [],
   "source": []
  },
  {
   "cell_type": "code",
   "execution_count": null,
   "metadata": {},
   "outputs": [],
   "source": []
  },
  {
   "cell_type": "code",
   "execution_count": null,
   "metadata": {},
   "outputs": [],
   "source": []
  },
  {
   "cell_type": "code",
   "execution_count": null,
   "metadata": {},
   "outputs": [],
   "source": []
  },
  {
   "cell_type": "code",
   "execution_count": null,
   "metadata": {},
   "outputs": [],
   "source": []
  },
  {
   "cell_type": "code",
   "execution_count": null,
   "metadata": {},
   "outputs": [],
   "source": []
  },
  {
   "cell_type": "code",
   "execution_count": null,
   "metadata": {},
   "outputs": [],
   "source": []
  },
  {
   "cell_type": "code",
   "execution_count": null,
   "metadata": {},
   "outputs": [],
   "source": []
  },
  {
   "cell_type": "code",
   "execution_count": null,
   "metadata": {},
   "outputs": [],
   "source": []
  },
  {
   "cell_type": "code",
   "execution_count": null,
   "metadata": {},
   "outputs": [],
   "source": []
  },
  {
   "cell_type": "code",
   "execution_count": null,
   "metadata": {},
   "outputs": [],
   "source": []
  },
  {
   "cell_type": "code",
   "execution_count": null,
   "metadata": {},
   "outputs": [],
   "source": []
  },
  {
   "cell_type": "code",
   "execution_count": null,
   "metadata": {},
   "outputs": [],
   "source": []
  },
  {
   "cell_type": "code",
   "execution_count": null,
   "metadata": {},
   "outputs": [],
   "source": []
  },
  {
   "cell_type": "code",
   "execution_count": null,
   "metadata": {},
   "outputs": [],
   "source": []
  },
  {
   "cell_type": "code",
   "execution_count": null,
   "metadata": {},
   "outputs": [],
   "source": []
  },
  {
   "cell_type": "code",
   "execution_count": null,
   "metadata": {},
   "outputs": [],
   "source": []
  },
  {
   "cell_type": "code",
   "execution_count": null,
   "metadata": {},
   "outputs": [],
   "source": []
  },
  {
   "cell_type": "code",
   "execution_count": null,
   "metadata": {},
   "outputs": [],
   "source": []
  },
  {
   "cell_type": "code",
   "execution_count": null,
   "metadata": {},
   "outputs": [],
   "source": []
  },
  {
   "cell_type": "code",
   "execution_count": null,
   "metadata": {},
   "outputs": [],
   "source": []
  },
  {
   "cell_type": "code",
   "execution_count": null,
   "metadata": {},
   "outputs": [],
   "source": []
  }
 ],
 "metadata": {
  "kernelspec": {
   "display_name": "base",
   "language": "python",
   "name": "python3"
  },
  "language_info": {
   "codemirror_mode": {
    "name": "ipython",
    "version": 3
   },
   "file_extension": ".py",
   "mimetype": "text/x-python",
   "name": "python",
   "nbconvert_exporter": "python",
   "pygments_lexer": "ipython3",
   "version": "3.11.5"
  }
 },
 "nbformat": 4,
 "nbformat_minor": 2
}
