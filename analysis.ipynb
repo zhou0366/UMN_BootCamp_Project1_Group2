{
 "cells": [
  {
   "cell_type": "code",
   "execution_count": 15,
   "metadata": {},
   "outputs": [],
   "source": [
    "# add dependencies\n",
    "import pandas as pd\n",
    "import matplotlib.pyplot as plt\n",
    "import scipy.stats as st"
   ]
  },
  {
   "cell_type": "code",
   "execution_count": 4,
   "metadata": {},
   "outputs": [
    {
     "data": {
      "text/html": [
       "<div>\n",
       "<style scoped>\n",
       "    .dataframe tbody tr th:only-of-type {\n",
       "        vertical-align: middle;\n",
       "    }\n",
       "\n",
       "    .dataframe tbody tr th {\n",
       "        vertical-align: top;\n",
       "    }\n",
       "\n",
       "    .dataframe thead th {\n",
       "        text-align: right;\n",
       "    }\n",
       "</style>\n",
       "<table border=\"1\" class=\"dataframe\">\n",
       "  <thead>\n",
       "    <tr style=\"text-align: right;\">\n",
       "      <th></th>\n",
       "      <th>Unnamed: 0</th>\n",
       "      <th>Country</th>\n",
       "      <th>Water Body ID</th>\n",
       "      <th>Year</th>\n",
       "      <th>Unit of Measure</th>\n",
       "      <th>Value</th>\n",
       "      <th>Population Density</th>\n",
       "      <th>GDP</th>\n",
       "    </tr>\n",
       "  </thead>\n",
       "  <tbody>\n",
       "    <tr>\n",
       "      <th>0</th>\n",
       "      <td>13</td>\n",
       "      <td>France</td>\n",
       "      <td>FRGR0005B</td>\n",
       "      <td>2009</td>\n",
       "      <td>[pH]</td>\n",
       "      <td>7.68919</td>\n",
       "      <td>122.299437</td>\n",
       "      <td>2.806036e+12</td>\n",
       "    </tr>\n",
       "    <tr>\n",
       "      <th>1</th>\n",
       "      <td>16</td>\n",
       "      <td>France</td>\n",
       "      <td>FRGR1496</td>\n",
       "      <td>2009</td>\n",
       "      <td>mg{O2}/L</td>\n",
       "      <td>1.06250</td>\n",
       "      <td>122.299437</td>\n",
       "      <td>2.806036e+12</td>\n",
       "    </tr>\n",
       "    <tr>\n",
       "      <th>2</th>\n",
       "      <td>18</td>\n",
       "      <td>France</td>\n",
       "      <td>FRGR0004A</td>\n",
       "      <td>2009</td>\n",
       "      <td>[pH]</td>\n",
       "      <td>7.63017</td>\n",
       "      <td>122.299437</td>\n",
       "      <td>2.806036e+12</td>\n",
       "    </tr>\n",
       "    <tr>\n",
       "      <th>3</th>\n",
       "      <td>29</td>\n",
       "      <td>France</td>\n",
       "      <td>FRDR173A</td>\n",
       "      <td>2009</td>\n",
       "      <td>mg{O2}/L</td>\n",
       "      <td>1.10833</td>\n",
       "      <td>122.299437</td>\n",
       "      <td>2.806036e+12</td>\n",
       "    </tr>\n",
       "    <tr>\n",
       "      <th>4</th>\n",
       "      <td>31</td>\n",
       "      <td>France</td>\n",
       "      <td>FRGR0173</td>\n",
       "      <td>2009</td>\n",
       "      <td>mg{O2}/L</td>\n",
       "      <td>1.76667</td>\n",
       "      <td>122.299437</td>\n",
       "      <td>2.806036e+12</td>\n",
       "    </tr>\n",
       "  </tbody>\n",
       "</table>\n",
       "</div>"
      ],
      "text/plain": [
       "   Unnamed: 0 Country Water Body ID  Year Unit of Measure    Value  \\\n",
       "0          13  France     FRGR0005B  2009            [pH]  7.68919   \n",
       "1          16  France      FRGR1496  2009        mg{O2}/L  1.06250   \n",
       "2          18  France     FRGR0004A  2009            [pH]  7.63017   \n",
       "3          29  France      FRDR173A  2009        mg{O2}/L  1.10833   \n",
       "4          31  France      FRGR0173  2009        mg{O2}/L  1.76667   \n",
       "\n",
       "   Population Density           GDP  \n",
       "0          122.299437  2.806036e+12  \n",
       "1          122.299437  2.806036e+12  \n",
       "2          122.299437  2.806036e+12  \n",
       "3          122.299437  2.806036e+12  \n",
       "4          122.299437  2.806036e+12  "
      ]
     },
     "execution_count": 4,
     "metadata": {},
     "output_type": "execute_result"
    }
   ],
   "source": [
    "# pull in dataframe\n",
    "clean = pd.read_csv(\"cleaned_data.csv\")\n",
    "clean.head()"
   ]
  },
  {
   "cell_type": "code",
   "execution_count": 5,
   "metadata": {},
   "outputs": [
    {
     "data": {
      "text/plain": [
       "array(['France', 'Spain', 'Lithuania', 'United Kingdom', 'Germany',\n",
       "       'Bulgaria', 'Denmark', 'Italy', 'Finland', 'Ireland', 'Belgium',\n",
       "       'Sweden', 'Portugal', 'Czech Republic', 'Serbia', 'Romania',\n",
       "       'Switzerland', 'Latvia', 'Austria', 'Luxembourg', 'Norway',\n",
       "       'Croatia', 'Belarus'], dtype=object)"
      ]
     },
     "execution_count": 5,
     "metadata": {},
     "output_type": "execute_result"
    }
   ],
   "source": [
    "# determine how many countries are in data\n",
    "clean[\"Country\"].unique()"
   ]
  },
  {
   "cell_type": "code",
   "execution_count": 22,
   "metadata": {},
   "outputs": [],
   "source": [
    "# determine number of years included in the data\n",
    "france_water = clean[(clean['Country'] == 'France')]\n",
    "#france_water\n",
    "france_bodies = france_water.groupby('Water Body ID').count()\n"
   ]
  },
  {
   "cell_type": "code",
   "execution_count": null,
   "metadata": {},
   "outputs": [],
   "source": [
    "#eric country cleaning"
   ]
  },
  {
   "cell_type": "code",
   "execution_count": null,
   "metadata": {},
   "outputs": [],
   "source": [
    "#eric country cleaning"
   ]
  },
  {
   "cell_type": "code",
   "execution_count": null,
   "metadata": {},
   "outputs": [],
   "source": [
    "#eric country cleaning"
   ]
  },
  {
   "cell_type": "code",
   "execution_count": null,
   "metadata": {},
   "outputs": [],
   "source": [
    "#eric country cleaning"
   ]
  },
  {
   "cell_type": "code",
   "execution_count": null,
   "metadata": {},
   "outputs": [],
   "source": [
    "#eric country cleaning"
   ]
  },
  {
   "cell_type": "code",
   "execution_count": null,
   "metadata": {},
   "outputs": [],
   "source": [
    "#eric country cleaning"
   ]
  },
  {
   "cell_type": "code",
   "execution_count": null,
   "metadata": {},
   "outputs": [],
   "source": [
    "#eric country cleaning"
   ]
  },
  {
   "cell_type": "code",
   "execution_count": null,
   "metadata": {},
   "outputs": [],
   "source": [
    "# nora population density"
   ]
  },
  {
   "cell_type": "code",
   "execution_count": null,
   "metadata": {},
   "outputs": [],
   "source": [
    "# nora"
   ]
  },
  {
   "cell_type": "code",
   "execution_count": null,
   "metadata": {},
   "outputs": [],
   "source": [
    "# nora"
   ]
  },
  {
   "cell_type": "code",
   "execution_count": null,
   "metadata": {},
   "outputs": [],
   "source": [
    "# nora"
   ]
  },
  {
   "cell_type": "code",
   "execution_count": null,
   "metadata": {},
   "outputs": [],
   "source": [
    "# nora"
   ]
  },
  {
   "cell_type": "code",
   "execution_count": null,
   "metadata": {},
   "outputs": [],
   "source": [
    "# nora"
   ]
  },
  {
   "cell_type": "code",
   "execution_count": null,
   "metadata": {},
   "outputs": [],
   "source": [
    "# nora"
   ]
  },
  {
   "cell_type": "code",
   "execution_count": null,
   "metadata": {},
   "outputs": [],
   "source": [
    "# nora"
   ]
  },
  {
   "cell_type": "code",
   "execution_count": null,
   "metadata": {},
   "outputs": [],
   "source": [
    "# chris gdp"
   ]
  },
  {
   "cell_type": "code",
   "execution_count": null,
   "metadata": {},
   "outputs": [],
   "source": [
    "# chris gdp"
   ]
  },
  {
   "cell_type": "code",
   "execution_count": null,
   "metadata": {},
   "outputs": [],
   "source": [
    "# chris gdp"
   ]
  },
  {
   "cell_type": "code",
   "execution_count": null,
   "metadata": {},
   "outputs": [],
   "source": [
    "# chris gdp"
   ]
  },
  {
   "cell_type": "code",
   "execution_count": null,
   "metadata": {},
   "outputs": [],
   "source": [
    "# chris gdp"
   ]
  },
  {
   "cell_type": "code",
   "execution_count": null,
   "metadata": {},
   "outputs": [],
   "source": [
    "# chris gdp"
   ]
  },
  {
   "cell_type": "code",
   "execution_count": null,
   "metadata": {},
   "outputs": [],
   "source": [
    "# chris gdp"
   ]
  },
  {
   "cell_type": "code",
   "execution_count": null,
   "metadata": {},
   "outputs": [],
   "source": [
    "# chris gdp"
   ]
  },
  {
   "cell_type": "code",
   "execution_count": null,
   "metadata": {},
   "outputs": [],
   "source": []
  },
  {
   "cell_type": "code",
   "execution_count": null,
   "metadata": {},
   "outputs": [],
   "source": []
  },
  {
   "cell_type": "code",
   "execution_count": 7,
   "metadata": {},
   "outputs": [
    {
     "data": {
      "text/html": [
       "<div>\n",
       "<style scoped>\n",
       "    .dataframe tbody tr th:only-of-type {\n",
       "        vertical-align: middle;\n",
       "    }\n",
       "\n",
       "    .dataframe tbody tr th {\n",
       "        vertical-align: top;\n",
       "    }\n",
       "\n",
       "    .dataframe thead th {\n",
       "        text-align: right;\n",
       "    }\n",
       "</style>\n",
       "<table border=\"1\" class=\"dataframe\">\n",
       "  <thead>\n",
       "    <tr style=\"text-align: right;\">\n",
       "      <th></th>\n",
       "      <th>Country</th>\n",
       "      <th>GDP</th>\n",
       "      <th>Population Density</th>\n",
       "      <th>Mean Temp</th>\n",
       "      <th>Median Temp</th>\n",
       "      <th>Temp Variance</th>\n",
       "      <th>Temp Std. Dev.</th>\n",
       "      <th>Temp Std. Err.</th>\n",
       "    </tr>\n",
       "  </thead>\n",
       "  <tbody>\n",
       "    <tr>\n",
       "      <th>0</th>\n",
       "      <td>Austria</td>\n",
       "      <td>4.200405e+11</td>\n",
       "      <td>107.127967</td>\n",
       "      <td>10.822500</td>\n",
       "      <td>10.82250</td>\n",
       "      <td>3.112513</td>\n",
       "      <td>1.764231</td>\n",
       "      <td>1.247500</td>\n",
       "    </tr>\n",
       "    <tr>\n",
       "      <th>1</th>\n",
       "      <td>Belgium</td>\n",
       "      <td>5.151026e+11</td>\n",
       "      <td>377.379590</td>\n",
       "      <td>11.623625</td>\n",
       "      <td>11.65275</td>\n",
       "      <td>2.920474</td>\n",
       "      <td>1.708939</td>\n",
       "      <td>0.493328</td>\n",
       "    </tr>\n",
       "    <tr>\n",
       "      <th>2</th>\n",
       "      <td>Bulgaria</td>\n",
       "      <td>5.679241e+10</td>\n",
       "      <td>64.711100</td>\n",
       "      <td>13.821118</td>\n",
       "      <td>13.84000</td>\n",
       "      <td>6.332130</td>\n",
       "      <td>2.516372</td>\n",
       "      <td>0.431554</td>\n",
       "    </tr>\n",
       "    <tr>\n",
       "      <th>3</th>\n",
       "      <td>Croatia</td>\n",
       "      <td>6.109527e+10</td>\n",
       "      <td>73.049375</td>\n",
       "      <td>12.800000</td>\n",
       "      <td>12.80000</td>\n",
       "      <td>NaN</td>\n",
       "      <td>NaN</td>\n",
       "      <td>NaN</td>\n",
       "    </tr>\n",
       "    <tr>\n",
       "      <th>4</th>\n",
       "      <td>Finland</td>\n",
       "      <td>2.526922e+11</td>\n",
       "      <td>18.148547</td>\n",
       "      <td>9.736109</td>\n",
       "      <td>8.41035</td>\n",
       "      <td>30.836440</td>\n",
       "      <td>5.553057</td>\n",
       "      <td>0.981651</td>\n",
       "    </tr>\n",
       "  </tbody>\n",
       "</table>\n",
       "</div>"
      ],
      "text/plain": [
       "    Country           GDP  Population Density  Mean Temp  Median Temp  \\\n",
       "0   Austria  4.200405e+11          107.127967  10.822500     10.82250   \n",
       "1   Belgium  5.151026e+11          377.379590  11.623625     11.65275   \n",
       "2  Bulgaria  5.679241e+10           64.711100  13.821118     13.84000   \n",
       "3   Croatia  6.109527e+10           73.049375  12.800000     12.80000   \n",
       "4   Finland  2.526922e+11           18.148547   9.736109      8.41035   \n",
       "\n",
       "   Temp Variance  Temp Std. Dev.  Temp Std. Err.  \n",
       "0       3.112513        1.764231        1.247500  \n",
       "1       2.920474        1.708939        0.493328  \n",
       "2       6.332130        2.516372        0.431554  \n",
       "3            NaN             NaN             NaN  \n",
       "4      30.836440        5.553057        0.981651  "
      ]
     },
     "execution_count": 7,
     "metadata": {},
     "output_type": "execute_result"
    }
   ],
   "source": [
    "#Create DF of Stats for Temp- all years combined for each country\n",
    "Temp = clean['Unit of Measure'] == 'Cel'\n",
    "\n",
    "Country_Temp_Stats = clean[Temp].groupby(['Country', 'GDP', 'Population Density']).agg({\n",
    "    'Value': ['mean', 'median', 'var', 'std', 'sem']\n",
    "}).reset_index()\n",
    "\n",
    "# Rename columns\n",
    "Country_Temp_Stats.columns = ['Country', 'GDP', 'Population Density', 'Mean Temp', 'Median Temp', \n",
    "                      'Temp Variance', 'Temp Std. Dev.', 'Temp Std. Err.']\n",
    "Country_Temp_Stats.head()"
   ]
  },
  {
   "cell_type": "code",
   "execution_count": 8,
   "metadata": {},
   "outputs": [
    {
     "data": {
      "text/html": [
       "<div>\n",
       "<style scoped>\n",
       "    .dataframe tbody tr th:only-of-type {\n",
       "        vertical-align: middle;\n",
       "    }\n",
       "\n",
       "    .dataframe tbody tr th {\n",
       "        vertical-align: top;\n",
       "    }\n",
       "\n",
       "    .dataframe thead th {\n",
       "        text-align: right;\n",
       "    }\n",
       "</style>\n",
       "<table border=\"1\" class=\"dataframe\">\n",
       "  <thead>\n",
       "    <tr style=\"text-align: right;\">\n",
       "      <th></th>\n",
       "      <th>Country</th>\n",
       "      <th>GDP</th>\n",
       "      <th>Population Density</th>\n",
       "      <th>Mean O2</th>\n",
       "      <th>Median O2</th>\n",
       "      <th>O2 Variance</th>\n",
       "      <th>O2 Std. Dev.</th>\n",
       "      <th>O2 Std. Err.</th>\n",
       "    </tr>\n",
       "  </thead>\n",
       "  <tbody>\n",
       "    <tr>\n",
       "      <th>0</th>\n",
       "      <td>Austria</td>\n",
       "      <td>4.200405e+11</td>\n",
       "      <td>107.127967</td>\n",
       "      <td>3.714332</td>\n",
       "      <td>3.23549</td>\n",
       "      <td>4.181804</td>\n",
       "      <td>2.044946</td>\n",
       "      <td>0.834846</td>\n",
       "    </tr>\n",
       "    <tr>\n",
       "      <th>1</th>\n",
       "      <td>Belarus</td>\n",
       "      <td>5.918702e+10</td>\n",
       "      <td>46.719504</td>\n",
       "      <td>1.070000</td>\n",
       "      <td>1.07000</td>\n",
       "      <td>NaN</td>\n",
       "      <td>NaN</td>\n",
       "      <td>NaN</td>\n",
       "    </tr>\n",
       "    <tr>\n",
       "      <th>2</th>\n",
       "      <td>Belgium</td>\n",
       "      <td>5.151026e+11</td>\n",
       "      <td>377.379590</td>\n",
       "      <td>5.824079</td>\n",
       "      <td>2.00000</td>\n",
       "      <td>62.172583</td>\n",
       "      <td>7.884959</td>\n",
       "      <td>1.858503</td>\n",
       "    </tr>\n",
       "    <tr>\n",
       "      <th>3</th>\n",
       "      <td>Bulgaria</td>\n",
       "      <td>5.679241e+10</td>\n",
       "      <td>64.711100</td>\n",
       "      <td>7.863195</td>\n",
       "      <td>3.68750</td>\n",
       "      <td>68.975917</td>\n",
       "      <td>8.305174</td>\n",
       "      <td>1.081242</td>\n",
       "    </tr>\n",
       "    <tr>\n",
       "      <th>4</th>\n",
       "      <td>Croatia</td>\n",
       "      <td>6.109527e+10</td>\n",
       "      <td>73.049375</td>\n",
       "      <td>4.666667</td>\n",
       "      <td>3.50000</td>\n",
       "      <td>10.943333</td>\n",
       "      <td>3.308071</td>\n",
       "      <td>1.909916</td>\n",
       "    </tr>\n",
       "  </tbody>\n",
       "</table>\n",
       "</div>"
      ],
      "text/plain": [
       "    Country           GDP  Population Density   Mean O2  Median O2  \\\n",
       "0   Austria  4.200405e+11          107.127967  3.714332    3.23549   \n",
       "1   Belarus  5.918702e+10           46.719504  1.070000    1.07000   \n",
       "2   Belgium  5.151026e+11          377.379590  5.824079    2.00000   \n",
       "3  Bulgaria  5.679241e+10           64.711100  7.863195    3.68750   \n",
       "4   Croatia  6.109527e+10           73.049375  4.666667    3.50000   \n",
       "\n",
       "   O2 Variance  O2 Std. Dev.  O2 Std. Err.  \n",
       "0     4.181804      2.044946      0.834846  \n",
       "1          NaN           NaN           NaN  \n",
       "2    62.172583      7.884959      1.858503  \n",
       "3    68.975917      8.305174      1.081242  \n",
       "4    10.943333      3.308071      1.909916  "
      ]
     },
     "execution_count": 8,
     "metadata": {},
     "output_type": "execute_result"
    }
   ],
   "source": [
    "#Create DF of Stats for Dissolved O2 - all years combined for each country\n",
    "O2 = clean['Unit of Measure'] == 'mg{O2}/L'\n",
    "\n",
    "Country_O2_Stats = clean[O2].groupby(['Country', 'GDP', 'Population Density']).agg({\n",
    "    'Value': ['mean', 'median', 'var', 'std', 'sem']\n",
    "}).reset_index()\n",
    "\n",
    "# Rename columns\n",
    "Country_O2_Stats.columns = ['Country', 'GDP', 'Population Density', 'Mean O2', 'Median O2', \n",
    "                    'O2 Variance', 'O2 Std. Dev.', 'O2 Std. Err.']\n",
    "Country_O2_Stats.head()"
   ]
  },
  {
   "cell_type": "code",
   "execution_count": 9,
   "metadata": {},
   "outputs": [
    {
     "data": {
      "text/html": [
       "<div>\n",
       "<style scoped>\n",
       "    .dataframe tbody tr th:only-of-type {\n",
       "        vertical-align: middle;\n",
       "    }\n",
       "\n",
       "    .dataframe tbody tr th {\n",
       "        vertical-align: top;\n",
       "    }\n",
       "\n",
       "    .dataframe thead th {\n",
       "        text-align: right;\n",
       "    }\n",
       "</style>\n",
       "<table border=\"1\" class=\"dataframe\">\n",
       "  <thead>\n",
       "    <tr style=\"text-align: right;\">\n",
       "      <th></th>\n",
       "      <th>Country</th>\n",
       "      <th>GDP</th>\n",
       "      <th>Population Density</th>\n",
       "      <th>Mean pH</th>\n",
       "      <th>Median pH</th>\n",
       "      <th>pH Variance</th>\n",
       "      <th>pH Std. Dev.</th>\n",
       "      <th>pH Std. Err.</th>\n",
       "    </tr>\n",
       "  </thead>\n",
       "  <tbody>\n",
       "    <tr>\n",
       "      <th>0</th>\n",
       "      <td>Austria</td>\n",
       "      <td>4.200405e+11</td>\n",
       "      <td>107.127967</td>\n",
       "      <td>8.221665</td>\n",
       "      <td>8.221665</td>\n",
       "      <td>0.052271</td>\n",
       "      <td>0.228629</td>\n",
       "      <td>0.161665</td>\n",
       "    </tr>\n",
       "    <tr>\n",
       "      <th>1</th>\n",
       "      <td>Belgium</td>\n",
       "      <td>5.151026e+11</td>\n",
       "      <td>377.379590</td>\n",
       "      <td>7.771786</td>\n",
       "      <td>7.804650</td>\n",
       "      <td>0.050814</td>\n",
       "      <td>0.225419</td>\n",
       "      <td>0.053132</td>\n",
       "    </tr>\n",
       "    <tr>\n",
       "      <th>2</th>\n",
       "      <td>Bulgaria</td>\n",
       "      <td>5.679241e+10</td>\n",
       "      <td>64.711100</td>\n",
       "      <td>7.954444</td>\n",
       "      <td>7.941500</td>\n",
       "      <td>0.036645</td>\n",
       "      <td>0.191428</td>\n",
       "      <td>0.033840</td>\n",
       "    </tr>\n",
       "    <tr>\n",
       "      <th>3</th>\n",
       "      <td>Croatia</td>\n",
       "      <td>6.109527e+10</td>\n",
       "      <td>73.049375</td>\n",
       "      <td>7.900000</td>\n",
       "      <td>7.900000</td>\n",
       "      <td>NaN</td>\n",
       "      <td>NaN</td>\n",
       "      <td>NaN</td>\n",
       "    </tr>\n",
       "    <tr>\n",
       "      <th>4</th>\n",
       "      <td>Finland</td>\n",
       "      <td>2.526922e+11</td>\n",
       "      <td>18.148547</td>\n",
       "      <td>6.745819</td>\n",
       "      <td>6.794100</td>\n",
       "      <td>0.173389</td>\n",
       "      <td>0.416400</td>\n",
       "      <td>0.074788</td>\n",
       "    </tr>\n",
       "  </tbody>\n",
       "</table>\n",
       "</div>"
      ],
      "text/plain": [
       "    Country           GDP  Population Density   Mean pH  Median pH  \\\n",
       "0   Austria  4.200405e+11          107.127967  8.221665   8.221665   \n",
       "1   Belgium  5.151026e+11          377.379590  7.771786   7.804650   \n",
       "2  Bulgaria  5.679241e+10           64.711100  7.954444   7.941500   \n",
       "3   Croatia  6.109527e+10           73.049375  7.900000   7.900000   \n",
       "4   Finland  2.526922e+11           18.148547  6.745819   6.794100   \n",
       "\n",
       "   pH Variance  pH Std. Dev.  pH Std. Err.  \n",
       "0     0.052271      0.228629      0.161665  \n",
       "1     0.050814      0.225419      0.053132  \n",
       "2     0.036645      0.191428      0.033840  \n",
       "3          NaN           NaN           NaN  \n",
       "4     0.173389      0.416400      0.074788  "
      ]
     },
     "execution_count": 9,
     "metadata": {},
     "output_type": "execute_result"
    }
   ],
   "source": [
    "#Create DF of Stats for pH - all years combined for each country\n",
    "pH = clean['Unit of Measure'] == '[pH]'\n",
    "\n",
    "Country_pH_Stats = clean[pH].groupby(['Country', 'GDP', 'Population Density']).agg({\n",
    "    'Value': ['mean', 'median', 'var', 'std', 'sem']\n",
    "}).reset_index()\n",
    "\n",
    "# Rename columns\n",
    "Country_pH_Stats.columns = ['Country', 'GDP', 'Population Density', 'Mean pH', 'Median pH', \n",
    "                    'pH Variance', 'pH Std. Dev.', 'pH Std. Err.']\n",
    "Country_pH_Stats.head()"
   ]
  },
  {
   "cell_type": "code",
   "execution_count": 16,
   "metadata": {},
   "outputs": [],
   "source": [
    "def LinReg(x_data, y_data, annotate_position):\n",
    "    slope, intercept, r, p, std_err=st.linregress(x_data, y_data)\n",
    "    fit=slope*x_axis+intercept\n",
    "    plt.plot(x_data, fit, '--', color='red', )\n",
    "    line_eq = \"y = \" + str(round(slope,2)) + \"x + \" + str(round(intercept,2))\n",
    "    plt.annotate(line_eq,(annotate_position),fontsize=15,color=\"red\")\n",
    "    print(f'The r-value is:{r}')"
   ]
  },
  {
   "cell_type": "code",
   "execution_count": 20,
   "metadata": {},
   "outputs": [
    {
     "name": "stdout",
     "output_type": "stream",
     "text": [
      "The r-value is:0.15332307101484619\n"
     ]
    },
    {
     "data": {
      "image/png": "[encoded data removed]",
      "text/plain": [
       "<Figure size 640x480 with 1 Axes>"
      ]
     },
     "metadata": {},
     "output_type": "display_data"
    }
   ],
   "source": [
    "# Build scatter plot with regression line for GDP vs Mean Temp\n",
    "x_axis=Country_Temp_Stats['GDP']\n",
    "y_axis=Country_Temp_Stats['Mean Temp']\n",
    "plt.scatter(x_axis, y_axis, marker='o', facecolors='red', edgecolors='black', alpha=0.75)\n",
    "Poss=2.5e12, 7\n",
    "LinReg(x_axis, y_axis, Poss)\n",
    "plt.title('GDP vs. Mean Water Tempurature')\n",
    "plt.xlabel('GDP')\n",
    "plt.ylabel('Mean Water Tempurature (C)')\n",
    "# Save the figure\n",
    "# plt.savefig(\"output_data/GDP_MeanTemp_ScatterRegression.png\")\n",
    "plt.show()"
   ]
  },
  {
   "cell_type": "code",
   "execution_count": 44,
   "metadata": {},
   "outputs": [
    {
     "name": "stdout",
     "output_type": "stream",
     "text": [
      "The r-value is:0.0738574309602054\n"
     ]
    },
    {
     "data": {
      "image/png": "[encoded data removed]",
      "text/plain": [
       "<Figure size 640x480 with 1 Axes>"
      ]
     },
     "metadata": {},
     "output_type": "display_data"
    }
   ],
   "source": [
    "# Build scatter plot with regression line for GDP vs Mean pH\n",
    "x_axis=Country_pH_Stats['GDP']\n",
    "y_axis=Country_pH_Stats['Mean pH']\n",
    "plt.axhline(y=6.5, color='gray', linestyle='-', alpha=0.5)\n",
    "plt.axhline(y=9, color='gray', linestyle='-', alpha=0.5)\n",
    "plt.scatter(x_axis, y_axis, marker='o', facecolors='green', edgecolors='black', alpha=0.75)\n",
    "Poss=2.5e12, 7\n",
    "LinReg(x_axis, y_axis, Poss)\n",
    "plt.title('GDP vs. Mean pH')\n",
    "plt.xlabel('GDP')\n",
    "plt.ylabel('Mean pH')\n",
    "# Save the figure\n",
    "# plt.savefig(\"output_data/GDP_MeanpH_ScatterRegression.png\")\n",
    "plt.show()"
   ]
  },
  {
   "cell_type": "code",
   "execution_count": 43,
   "metadata": {},
   "outputs": [
    {
     "name": "stdout",
     "output_type": "stream",
     "text": [
      "The r-value is:-0.24116504394765953\n"
     ]
    },
    {
     "data": {
      "image/png": "[encoded data removed]",
      "text/plain": [
       "<Figure size 640x480 with 1 Axes>"
      ]
     },
     "metadata": {},
     "output_type": "display_data"
    }
   ],
   "source": [
    "# Build scatter plot with regression line for GDP vs Dissolved 0xygen\n",
    "x_axis=Country_O2_Stats['GDP']\n",
    "y_axis=Country_O2_Stats['Mean O2']\n",
    "plt.axhline(y=6, color='gray', linestyle='-', alpha=0.5)\n",
    "plt.axhline(y=2, color='gray', linestyle='-', alpha=0.5)\n",
    "plt.scatter(x_axis, y_axis, marker='o', facecolors='blue', edgecolors='black', alpha=0.75)\n",
    "Poss=2.5e12, 7\n",
    "LinReg(x_axis, y_axis, Poss)\n",
    "plt.title('GDP vs. Mean Dissolved Oxygen')\n",
    "plt.xlabel('GDP')\n",
    "plt.ylabel('Mean Dissolved Oxygen (mg/L)')\n",
    "# Save the figure\n",
    "# plt.savefig(\"output_data/GDP_MeanO2_ScatterRegression.png\")\n",
    "plt.show()"
   ]
  },
  {
   "cell_type": "code",
   "execution_count": null,
   "metadata": {},
   "outputs": [],
   "source": []
  },
  {
   "cell_type": "code",
   "execution_count": null,
   "metadata": {},
   "outputs": [],
   "source": []
  },
  {
   "cell_type": "code",
   "execution_count": null,
   "metadata": {},
   "outputs": [],
   "source": []
  },
  {
   "cell_type": "code",
   "execution_count": null,
   "metadata": {},
   "outputs": [],
   "source": []
  },
  {
   "cell_type": "code",
   "execution_count": null,
   "metadata": {},
   "outputs": [],
   "source": []
  },
  {
   "cell_type": "code",
   "execution_count": null,
   "metadata": {},
   "outputs": [],
   "source": []
  },
  {
   "cell_type": "code",
   "execution_count": null,
   "metadata": {},
   "outputs": [],
   "source": []
  },
  {
   "cell_type": "code",
   "execution_count": null,
   "metadata": {},
   "outputs": [],
   "source": []
  },
  {
   "cell_type": "code",
   "execution_count": null,
   "metadata": {},
   "outputs": [],
   "source": []
  },
  {
   "cell_type": "code",
   "execution_count": null,
   "metadata": {},
   "outputs": [],
   "source": []
  },
  {
   "cell_type": "code",
   "execution_count": null,
   "metadata": {},
   "outputs": [],
   "source": []
  },
  {
   "cell_type": "code",
   "execution_count": null,
   "metadata": {},
   "outputs": [],
   "source": []
  },
  {
   "cell_type": "code",
   "execution_count": null,
   "metadata": {},
   "outputs": [],
   "source": []
  },
  {
   "cell_type": "code",
   "execution_count": null,
   "metadata": {},
   "outputs": [],
   "source": []
  },
  {
   "cell_type": "code",
   "execution_count": null,
   "metadata": {},
   "outputs": [],
   "source": []
  },
  {
   "cell_type": "code",
   "execution_count": null,
   "metadata": {},
   "outputs": [],
   "source": []
  },
  {
   "cell_type": "code",
   "execution_count": null,
   "metadata": {},
   "outputs": [],
   "source": []
  },
  {
   "cell_type": "code",
   "execution_count": null,
   "metadata": {},
   "outputs": [],
   "source": []
  },
  {
   "cell_type": "code",
   "execution_count": null,
   "metadata": {},
   "outputs": [],
   "source": []
  },
  {
   "cell_type": "code",
   "execution_count": null,
   "metadata": {},
   "outputs": [],
   "source": []
  },
  {
   "cell_type": "code",
   "execution_count": null,
   "metadata": {},
   "outputs": [],
   "source": []
  },
  {
   "cell_type": "code",
   "execution_count": null,
   "metadata": {},
   "outputs": [],
   "source": []
  },
  {
   "cell_type": "code",
   "execution_count": null,
   "metadata": {},
   "outputs": [],
   "source": []
  },
  {
   "cell_type": "code",
   "execution_count": null,
   "metadata": {},
   "outputs": [],
   "source": []
  },
  {
   "cell_type": "code",
   "execution_count": null,
   "metadata": {},
   "outputs": [],
   "source": []
  },
  {
   "cell_type": "code",
   "execution_count": null,
   "metadata": {},
   "outputs": [],
   "source": []
  },
  {
   "cell_type": "code",
   "execution_count": null,
   "metadata": {},
   "outputs": [],
   "source": []
  },
  {
   "cell_type": "code",
   "execution_count": null,
   "metadata": {},
   "outputs": [],
   "source": []
  },
  {
   "cell_type": "code",
   "execution_count": null,
   "metadata": {},
   "outputs": [],
   "source": []
  },
  {
   "cell_type": "code",
   "execution_count": null,
   "metadata": {},
   "outputs": [],
   "source": []
  },
  {
   "cell_type": "code",
   "execution_count": null,
   "metadata": {},
   "outputs": [],
   "source": []
  },
  {
   "cell_type": "code",
   "execution_count": null,
   "metadata": {},
   "outputs": [],
   "source": []
  },
  {
   "cell_type": "code",
   "execution_count": null,
   "metadata": {},
   "outputs": [],
   "source": []
  },
  {
   "cell_type": "code",
   "execution_count": null,
   "metadata": {},
   "outputs": [],
   "source": []
  },
  {
   "cell_type": "code",
   "execution_count": null,
   "metadata": {},
   "outputs": [],
   "source": []
  },
  {
   "cell_type": "code",
   "execution_count": null,
   "metadata": {},
   "outputs": [],
   "source": []
  },
  {
   "cell_type": "code",
   "execution_count": null,
   "metadata": {},
   "outputs": [],
   "source": []
  },
  {
   "cell_type": "code",
   "execution_count": null,
   "metadata": {},
   "outputs": [],
   "source": []
  },
  {
   "cell_type": "code",
   "execution_count": null,
   "metadata": {},
   "outputs": [],
   "source": []
  },
  {
   "cell_type": "code",
   "execution_count": null,
   "metadata": {},
   "outputs": [],
   "source": []
  },
  {
   "cell_type": "code",
   "execution_count": null,
   "metadata": {},
   "outputs": [],
   "source": []
  },
  {
   "cell_type": "code",
   "execution_count": null,
   "metadata": {},
   "outputs": [],
   "source": []
  },
  {
   "cell_type": "code",
   "execution_count": null,
   "metadata": {},
   "outputs": [],
   "source": []
  },
  {
   "cell_type": "code",
   "execution_count": null,
   "metadata": {},
   "outputs": [],
   "source": []
  },
  {
   "cell_type": "code",
   "execution_count": null,
   "metadata": {},
   "outputs": [],
   "source": []
  },
  {
   "cell_type": "code",
   "execution_count": null,
   "metadata": {},
   "outputs": [],
   "source": []
  },
  {
   "cell_type": "code",
   "execution_count": null,
   "metadata": {},
   "outputs": [],
   "source": []
  },
  {
   "cell_type": "code",
   "execution_count": null,
   "metadata": {},
   "outputs": [],
   "source": []
  },
  {
   "cell_type": "code",
   "execution_count": null,
   "metadata": {},
   "outputs": [],
   "source": []
  },
  {
   "cell_type": "code",
   "execution_count": null,
   "metadata": {},
   "outputs": [],
   "source": []
  },
  {
   "cell_type": "code",
   "execution_count": null,
   "metadata": {},
   "outputs": [],
   "source": []
  },
  {
   "cell_type": "code",
   "execution_count": null,
   "metadata": {},
   "outputs": [],
   "source": []
  },
  {
   "cell_type": "code",
   "execution_count": null,
   "metadata": {},
   "outputs": [],
   "source": []
  },
  {
   "cell_type": "code",
   "execution_count": null,
   "metadata": {},
   "outputs": [],
   "source": []
  },
  {
   "cell_type": "code",
   "execution_count": null,
   "metadata": {},
   "outputs": [],
   "source": []
  },
  {
   "cell_type": "code",
   "execution_count": null,
   "metadata": {},
   "outputs": [],
   "source": []
  },
  {
   "cell_type": "code",
   "execution_count": null,
   "metadata": {},
   "outputs": [],
   "source": []
  },
  {
   "cell_type": "code",
   "execution_count": null,
   "metadata": {},
   "outputs": [],
   "source": []
  },
  {
   "cell_type": "code",
   "execution_count": null,
   "metadata": {},
   "outputs": [],
   "source": []
  },
  {
   "cell_type": "code",
   "execution_count": null,
   "metadata": {},
   "outputs": [],
   "source": []
  },
  {
   "cell_type": "code",
   "execution_count": null,
   "metadata": {},
   "outputs": [],
   "source": []
  },
  {
   "cell_type": "code",
   "execution_count": null,
   "metadata": {},
   "outputs": [],
   "source": []
  },
  {
   "cell_type": "code",
   "execution_count": null,
   "metadata": {},
   "outputs": [],
   "source": []
  },
  {
   "cell_type": "code",
   "execution_count": null,
   "metadata": {},
   "outputs": [],
   "source": []
  },
  {
   "cell_type": "code",
   "execution_count": null,
   "metadata": {},
   "outputs": [],
   "source": []
  },
  {
   "cell_type": "code",
   "execution_count": null,
   "metadata": {},
   "outputs": [],
   "source": []
  },
  {
   "cell_type": "code",
   "execution_count": null,
   "metadata": {},
   "outputs": [],
   "source": []
  },
  {
   "cell_type": "code",
   "execution_count": null,
   "metadata": {},
   "outputs": [],
   "source": []
  },
  {
   "cell_type": "code",
   "execution_count": null,
   "metadata": {},
   "outputs": [],
   "source": []
  },
  {
   "cell_type": "code",
   "execution_count": null,
   "metadata": {},
   "outputs": [],
   "source": []
  },
  {
   "cell_type": "code",
   "execution_count": null,
   "metadata": {},
   "outputs": [],
   "source": []
  },
  {
   "cell_type": "code",
   "execution_count": null,
   "metadata": {},
   "outputs": [],
   "source": []
  },
  {
   "cell_type": "code",
   "execution_count": null,
   "metadata": {},
   "outputs": [],
   "source": []
  },
  {
   "cell_type": "code",
   "execution_count": null,
   "metadata": {},
   "outputs": [],
   "source": []
  },
  {
   "cell_type": "code",
   "execution_count": null,
   "metadata": {},
   "outputs": [],
   "source": []
  },
  {
   "cell_type": "markdown",
   "metadata": {},
   "source": []
  },
  {
   "cell_type": "code",
   "execution_count": null,
   "metadata": {},
   "outputs": [],
   "source": []
  },
  {
   "cell_type": "code",
   "execution_count": null,
   "metadata": {},
   "outputs": [],
   "source": []
  },
  {
   "cell_type": "code",
   "execution_count": null,
   "metadata": {},
   "outputs": [],
   "source": []
  },
  {
   "cell_type": "code",
   "execution_count": null,
   "metadata": {},
   "outputs": [],
   "source": []
  },
  {
   "cell_type": "code",
   "execution_count": null,
   "metadata": {},
   "outputs": [],
   "source": []
  },
  {
   "cell_type": "code",
   "execution_count": null,
   "metadata": {},
   "outputs": [],
   "source": []
  },
  {
   "cell_type": "code",
   "execution_count": null,
   "metadata": {},
   "outputs": [],
   "source": []
  },
  {
   "cell_type": "code",
   "execution_count": null,
   "metadata": {},
   "outputs": [],
   "source": []
  },
  {
   "cell_type": "code",
   "execution_count": null,
   "metadata": {},
   "outputs": [],
   "source": []
  },
  {
   "cell_type": "code",
   "execution_count": null,
   "metadata": {},
   "outputs": [],
   "source": []
  },
  {
   "cell_type": "code",
   "execution_count": null,
   "metadata": {},
   "outputs": [],
   "source": []
  },
  {
   "cell_type": "code",
   "execution_count": null,
   "metadata": {},
   "outputs": [],
   "source": []
  },
  {
   "cell_type": "code",
   "execution_count": null,
   "metadata": {},
   "outputs": [],
   "source": []
  },
  {
   "cell_type": "code",
   "execution_count": null,
   "metadata": {},
   "outputs": [],
   "source": []
  },
  {
   "cell_type": "code",
   "execution_count": null,
   "metadata": {},
   "outputs": [],
   "source": []
  },
  {
   "cell_type": "code",
   "execution_count": null,
   "metadata": {},
   "outputs": [],
   "source": []
  },
  {
   "cell_type": "code",
   "execution_count": null,
   "metadata": {},
   "outputs": [],
   "source": []
  },
  {
   "cell_type": "code",
   "execution_count": null,
   "metadata": {},
   "outputs": [],
   "source": []
  },
  {
   "cell_type": "code",
   "execution_count": null,
   "metadata": {},
   "outputs": [],
   "source": []
  },
  {
   "cell_type": "code",
   "execution_count": null,
   "metadata": {},
   "outputs": [],
   "source": []
  },
  {
   "cell_type": "code",
   "execution_count": null,
   "metadata": {},
   "outputs": [],
   "source": []
  },
  {
   "cell_type": "code",
   "execution_count": null,
   "metadata": {},
   "outputs": [],
   "source": []
  },
  {
   "cell_type": "code",
   "execution_count": null,
   "metadata": {},
   "outputs": [],
   "source": []
  },
  {
   "cell_type": "code",
   "execution_count": null,
   "metadata": {},
   "outputs": [],
   "source": []
  },
  {
   "cell_type": "code",
   "execution_count": null,
   "metadata": {},
   "outputs": [],
   "source": []
  },
  {
   "cell_type": "code",
   "execution_count": null,
   "metadata": {},
   "outputs": [],
   "source": []
  }
 ],
 "metadata": {
  "kernelspec": {
   "display_name": "base",
   "language": "python",
   "name": "python3"
  },
  "language_info": {
   "codemirror_mode": {
    "name": "ipython",
    "version": 3
   },
   "file_extension": ".py",
   "mimetype": "text/x-python",
   "name": "python",
   "nbconvert_exporter": "python",
   "pygments_lexer": "ipython3",
   "version": "3.10.13"
  }
 },
 "nbformat": 4,
 "nbformat_minor": 2
}
