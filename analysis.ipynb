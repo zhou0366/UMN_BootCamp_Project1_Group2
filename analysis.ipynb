{
 "cells": [
  {
   "cell_type": "code",
   "execution_count": 1,
   "metadata": {},
   "outputs": [],
   "source": [
    "# add dependencies\n",
    "import pandas as pd\n",
    "import matplotlib.pyplot as plt\n",
    "import scipy.stats as st\n",
    "import numpy as np"
   ]
  },
  {
   "cell_type": "code",
   "execution_count": 2,
   "metadata": {},
   "outputs": [
    {
     "data": {
      "text/html": [
       "<div>\n",
       "<style scoped>\n",
       "    .dataframe tbody tr th:only-of-type {\n",
       "        vertical-align: middle;\n",
       "    }\n",
       "\n",
       "    .dataframe tbody tr th {\n",
       "        vertical-align: top;\n",
       "    }\n",
       "\n",
       "    .dataframe thead th {\n",
       "        text-align: right;\n",
       "    }\n",
       "</style>\n",
       "<table border=\"1\" class=\"dataframe\">\n",
       "  <thead>\n",
       "    <tr style=\"text-align: right;\">\n",
       "      <th></th>\n",
       "      <th>Unnamed: 0</th>\n",
       "      <th>Country</th>\n",
       "      <th>Water Body ID</th>\n",
       "      <th>Year</th>\n",
       "      <th>Unit of Measure</th>\n",
       "      <th>Value</th>\n",
       "      <th>Population Density</th>\n",
       "      <th>GDP</th>\n",
       "    </tr>\n",
       "  </thead>\n",
       "  <tbody>\n",
       "    <tr>\n",
       "      <th>0</th>\n",
       "      <td>13</td>\n",
       "      <td>France</td>\n",
       "      <td>FRGR0005B</td>\n",
       "      <td>2009</td>\n",
       "      <td>[pH]</td>\n",
       "      <td>7.68919</td>\n",
       "      <td>122.299437</td>\n",
       "      <td>2.806036e+12</td>\n",
       "    </tr>\n",
       "    <tr>\n",
       "      <th>1</th>\n",
       "      <td>16</td>\n",
       "      <td>France</td>\n",
       "      <td>FRGR1496</td>\n",
       "      <td>2009</td>\n",
       "      <td>mg{O2}/L</td>\n",
       "      <td>1.06250</td>\n",
       "      <td>122.299437</td>\n",
       "      <td>2.806036e+12</td>\n",
       "    </tr>\n",
       "    <tr>\n",
       "      <th>2</th>\n",
       "      <td>18</td>\n",
       "      <td>France</td>\n",
       "      <td>FRGR0004A</td>\n",
       "      <td>2009</td>\n",
       "      <td>[pH]</td>\n",
       "      <td>7.63017</td>\n",
       "      <td>122.299437</td>\n",
       "      <td>2.806036e+12</td>\n",
       "    </tr>\n",
       "    <tr>\n",
       "      <th>3</th>\n",
       "      <td>29</td>\n",
       "      <td>France</td>\n",
       "      <td>FRDR173A</td>\n",
       "      <td>2009</td>\n",
       "      <td>mg{O2}/L</td>\n",
       "      <td>1.10833</td>\n",
       "      <td>122.299437</td>\n",
       "      <td>2.806036e+12</td>\n",
       "    </tr>\n",
       "    <tr>\n",
       "      <th>4</th>\n",
       "      <td>31</td>\n",
       "      <td>France</td>\n",
       "      <td>FRGR0173</td>\n",
       "      <td>2009</td>\n",
       "      <td>mg{O2}/L</td>\n",
       "      <td>1.76667</td>\n",
       "      <td>122.299437</td>\n",
       "      <td>2.806036e+12</td>\n",
       "    </tr>\n",
       "  </tbody>\n",
       "</table>\n",
       "</div>"
      ],
      "text/plain": [
       "   Unnamed: 0 Country Water Body ID  Year Unit of Measure    Value  \\\n",
       "0          13  France     FRGR0005B  2009            [pH]  7.68919   \n",
       "1          16  France      FRGR1496  2009        mg{O2}/L  1.06250   \n",
       "2          18  France     FRGR0004A  2009            [pH]  7.63017   \n",
       "3          29  France      FRDR173A  2009        mg{O2}/L  1.10833   \n",
       "4          31  France      FRGR0173  2009        mg{O2}/L  1.76667   \n",
       "\n",
       "   Population Density           GDP  \n",
       "0          122.299437  2.806036e+12  \n",
       "1          122.299437  2.806036e+12  \n",
       "2          122.299437  2.806036e+12  \n",
       "3          122.299437  2.806036e+12  \n",
       "4          122.299437  2.806036e+12  "
      ]
     },
     "execution_count": 2,
     "metadata": {},
     "output_type": "execute_result"
    }
   ],
   "source": [
    "# pull in dataframe\n",
    "clean = pd.read_csv(\"cleaned_data.csv\")"
   ]
  },
  {
   "cell_type": "code",
   "execution_count": 3,
   "metadata": {},
   "outputs": [
    {
     "data": {
      "text/plain": [
       "array(['France', 'Spain', 'Lithuania', 'United Kingdom', 'Germany',\n",
       "       'Bulgaria', 'Denmark', 'Italy', 'Finland', 'Ireland', 'Belgium',\n",
       "       'Sweden', 'Portugal', 'Czech Republic', 'Serbia', 'Romania',\n",
       "       'Switzerland', 'Latvia', 'Austria', 'Luxembourg', 'Norway',\n",
       "       'Croatia', 'Belarus'], dtype=object)"
      ]
     },
     "execution_count": 3,
     "metadata": {},
     "output_type": "execute_result"
    }
   ],
   "source": [
    "# determine how many countries are in data\n",
    "clean[\"Country\"].unique()"
   ]
  },
  {
   "cell_type": "code",
   "execution_count": 13,
   "metadata": {},
   "outputs": [],
   "source": [
    "# population density numbers\n",
    "x_axis = clean[\"Country\"]\n",
    "y_axis = clean[\"Population Density\"]\n",
    "\n",
    "plt.bar(x_axis, y_axis, color=\"pink\", align=\"center\")\n",
    "plt.xticks(rotation=90)\n",
    "plt.xlabel(\"Country\")\n",
    "plt.ylabel(\"Population Density (in ppl per sq km)\")\n",
    "plt.title(\"Population Density by Country\")\n",
    "plt.show()"
   ]
  },
  {
   "cell_type": "code",
   "execution_count": 14,
   "metadata": {},
   "outputs": [],
   "source": [
    "# get mean dissolved oxygen per population density\n",
    "oxy_data = clean.loc[clean[\"Unit of Measure\"] == \"mg{O2}/L\", :]\n",
    "oxy_country = oxy_data.set_index(\"Country\").groupby([\"Country\"])\n",
    "oxy_country_mean = oxy_country[\"Value\"].mean()\n",
    "oxy_popden = oxy_country[\"Population Density\"].mean()\n",
    "oxy_summary = pd.DataFrame({\"Population Density\": oxy_popden, \"Avg Oxygen Levels (in mg{O2}/L)\": oxy_country_mean,})\n",
    "oxy_summary"
   ]
  },
  {
   "cell_type": "code",
   "execution_count": 15,
   "metadata": {},
   "outputs": [],
   "source": [
    "# plot dissolved oxygen vs population density\n",
    "(slope, intercept,rvalue, pvalue, stderr) = st.linregress(oxy_summary[\"Population Density\"],oxy_summary[\"Avg Oxygen Levels (in mg{O2}/L)\"])\n",
    "regress_oxyvalues = oxy_summary[\"Population Density\"] * slope + intercept\n",
    "line_eq = f\"y = {round(slope, 2)} x + {round(intercept, 2)}\"\n",
    "\n",
    "#calculate rvalue\n",
    "print(f\"The correlation between population density and the average dissolved oxygen is {rvalue}\")\n",
    "\n",
    "#make scatterplot\n",
    "x_axis = oxy_summary[\"Population Density\"]\n",
    "y_axis = oxy_summary[\"Avg Oxygen Levels (in mg{O2}/L)\"]\n",
    "plt.scatter(x_axis, y_axis, marker='o', facecolors='cyan', edgecolors='purple', alpha=0.75)\n",
    "plt.title('Population Density vs. Avg Oxygen Levels (in mg{O2}/L)')\n",
    "plt.xlabel('Population Density')\n",
    "plt.ylabel('Avg Oxygen Levels (in mg{O2}/L)')\n",
    "plt.plot(oxy_summary[\"Population Density\"], regress_oxyvalues, color=\"black\")\n",
    "plt.axhline(y=6, color=\"gray\", linestyle=\"-\", alpha=0.5)\n",
    "plt.show()"
   ]
  },
  {
   "cell_type": "code",
   "execution_count": 16,
   "metadata": {},
   "outputs": [],
   "source": [
    "# get mean temp per population density\n",
    "temp_data = clean.loc[clean[\"Unit of Measure\"] == \"Cel\", :]\n",
    "temp_country = temp_data.set_index(\"Country\").groupby([\"Country\"])\n",
    "temp_country_mean = temp_country[\"Value\"].mean()\n",
    "temp_popden = temp_country[\"Population Density\"].mean()\n",
    "temp_country_mean\n",
    "temp_summary = pd.DataFrame({\"Population Density\": temp_popden, \"Avg Water Temp (in deg Celsius)\": temp_country_mean,})\n",
    "temp_summary"
   ]
  },
  {
   "cell_type": "code",
   "execution_count": 17,
   "metadata": {},
   "outputs": [],
   "source": [
    "# plot mean water temp vs population density\n",
    "(slope, intercept,rvalue, pvalue, stderr) = st.linregress(temp_summary[\"Population Density\"],temp_summary[\"Avg Water Temp (in deg Celsius)\"])\n",
    "regress_tempvalues = temp_summary[\"Population Density\"] * slope + intercept\n",
    "line_eq = f\"y = {round(slope, 2)} x + {round(intercept, 2)}\"\n",
    "\n",
    "#calculate rvalue\n",
    "print(f\"The correlation between population density and the average water temperature is {rvalue}\")\n",
    "\n",
    "#make scatterplot\n",
    "x_axis = temp_summary[\"Population Density\"]\n",
    "y_axis = temp_summary[\"Avg Water Temp (in deg Celsius)\"]\n",
    "plt.scatter(x_axis, y_axis, marker='o', facecolors='orange', edgecolors='red', alpha=0.75)\n",
    "plt.title('Population Density vs. Avg Water Temp (C)')\n",
    "plt.xlabel('Population Density')\n",
    "plt.ylabel('Avg Water Temp (in deg Celsius)')\n",
    "plt.plot(temp_summary[\"Population Density\"], regress_tempvalues, color=\"black\")\n",
    "plt.show()\n"
   ]
  },
  {
   "cell_type": "code",
   "execution_count": 18,
   "metadata": {},
   "outputs": [],
   "source": [
    "# ph mean numbers\n",
    "ph_data = clean.loc[clean[\"Unit of Measure\"] == \"[pH]\", :]\n",
    "ph_country = ph_data.set_index(\"Country\").groupby([\"Country\"])\n",
    "ph_country_mean = ph_country[\"Value\"].mean()\n",
    "ph_popden = ph_country[\"Population Density\"].mean()\n",
    "ph_country_mean\n",
    "ph_summary = pd.DataFrame({\"Population Density\": ph_popden, \"Avg Water pH\": ph_country_mean,})\n",
    "ph_summary"
   ]
  },
  {
   "cell_type": "code",
   "execution_count": 19,
   "metadata": {},
   "outputs": [],
   "source": [
    "# create ph scatterplot vs population density\n",
    "(slope, intercept,rvalue, pvalue, stderr) = st.linregress(ph_summary[\"Population Density\"],ph_summary[\"Avg Water pH\"])\n",
    "regress_values = ph_summary[\"Population Density\"] * slope + intercept\n",
    "line_eq = f\"y = {round(slope, 2)} x + {round(intercept, 2)}\"\n",
    "\n",
    "#calculate rvalue\n",
    "print(f\"The correlation between population density and the average water pH is {rvalue}\")\n",
    "\n",
    "#make pH scatterplot\n",
    "x_axis = ph_summary[\"Population Density\"]\n",
    "y_axis = ph_summary[\"Avg Water pH\"]\n",
    "plt.scatter(x_axis, y_axis, marker='o', facecolors='yellow', edgecolors='green', alpha=0.75)\n",
    "plt.title('Population Density vs. Mean Water pH')\n",
    "plt.xlabel('Population Density')\n",
    "plt.ylabel('Mean Water pH')\n",
    "plt.plot(ph_summary[\"Population Density\"], regress_values, color=\"black\")\n",
    "plt.axhline(y=6.5, color=\"gray\", linestyle=\"-\", alpha=0.5)\n",
    "plt.axhline(y=9, color=\"gray\", linestyle=\"-\", alpha=0.5)\n",
    "plt.show()"
   ]
  },
  {
   "cell_type": "code",
   "execution_count": 26,
   "metadata": {},
   "outputs": [],
   "source": [
    "# gdp\n",
    "#GDP_format = france_water\n",
    "#GDP_format = clean \n",
    "#GDP_format[\"GDP\"] = GDP_format[\"GDP\"].map(\"${:,.2f}\".format)\n",
    "#GDP_format\n"
   ]
  },
  {
   "cell_type": "code",
   "execution_count": 27,
   "metadata": {},
   "outputs": [],
   "source": [
    "#  gdp\n",
    "#year_format = france_water\n",
    "#year_format = clean\n",
    "#year_format[\"Year\"] = year_format[\"Year\"].map(\"{:.0f}\".format)\n",
    "#year_format\n"
   ]
  },
  {
   "cell_type": "code",
   "execution_count": 37,
   "metadata": {},
   "outputs": [
    {
     "data": {
      "text/plain": [
       "([0,\n",
       "  1,\n",
       "  2,\n",
       "  3,\n",
       "  4,\n",
       "  5,\n",
       "  6,\n",
       "  7,\n",
       "  8,\n",
       "  9,\n",
       "  10,\n",
       "  11,\n",
       "  12,\n",
       "  13,\n",
       "  14,\n",
       "  15,\n",
       "  16,\n",
       "  17,\n",
       "  18,\n",
       "  19,\n",
       "  20,\n",
       "  21,\n",
       "  22],\n",
       " [Text(0, 0, 'France'),\n",
       "  Text(1, 0, 'Spain'),\n",
       "  Text(2, 0, 'Lithuania'),\n",
       "  Text(3, 0, 'United Kingdom'),\n",
       "  Text(4, 0, 'Germany'),\n",
       "  Text(5, 0, 'Bulgaria'),\n",
       "  Text(6, 0, 'Denmark'),\n",
       "  Text(7, 0, 'Italy'),\n",
       "  Text(8, 0, 'Finland'),\n",
       "  Text(9, 0, 'Ireland'),\n",
       "  Text(10, 0, 'Belgium'),\n",
       "  Text(11, 0, 'Sweden'),\n",
       "  Text(12, 0, 'Portugal'),\n",
       "  Text(13, 0, 'Czech Republic'),\n",
       "  Text(14, 0, 'Serbia'),\n",
       "  Text(15, 0, 'Romania'),\n",
       "  Text(16, 0, 'Switzerland'),\n",
       "  Text(17, 0, 'Latvia'),\n",
       "  Text(18, 0, 'Austria'),\n",
       "  Text(19, 0, 'Luxembourg'),\n",
       "  Text(20, 0, 'Norway'),\n",
       "  Text(21, 0, 'Croatia'),\n",
       "  Text(22, 0, 'Belarus')])"
      ]
     },
     "execution_count": 37,
     "metadata": {},
     "output_type": "execute_result"
    },
    {
     "data": {
      "image/png": "[encoded data removed]",
      "text/plain": [
       "<Figure size 640x480 with 1 Axes>"
      ]
     },
     "metadata": {},
     "output_type": "display_data"
    }
   ],
   "source": [
    "# gdp\n",
    "import matplotlib.pyplot as plt\n",
    "import numpy as np\n",
    "\n",
    "plt.bar(clean[\"Country\"], clean[\"GDP\"]) #.map(\"${:,.2f}\".format))\n",
    "\n",
    "# Incorporate the other graph properties\n",
    "plt.ylabel(\"GDP\")\n",
    "plt.xlabel(\"Country\")\n",
    "#plt.title(\"GDP by Year in France\")\n",
    "plt.title(\"GDP by Country\")\n",
    "plt.xticks(rotation=90)\n",
    "# Save the figure\n",
    "#plt.savefig(\"output_data/Fig1.png\")\n",
    "\n",
    "# Show plot\n",
    "#plt.show()"
   ]
  },
  {
   "cell_type": "code",
   "execution_count": null,
   "metadata": {},
   "outputs": [],
   "source": [
    "#Create DF of Stats for Temp- all years combined for each country\n",
    "Temp = clean['Unit of Measure'] == 'Cel'\n",
    "\n",
    "Country_Temp_Stats = clean[Temp].groupby(['Country', 'GDP', 'Population Density']).agg({\n",
    "    'Value': ['mean', 'median', 'var', 'std', 'sem']\n",
    "}).reset_index()\n",
    "\n",
    "# Rename columns\n",
    "Country_Temp_Stats.columns = ['Country', 'GDP', 'Population Density', 'Mean Temp', 'Median Temp', \n",
    "                      'Temp Variance', 'Temp Std. Dev.', 'Temp Std. Err.']\n",
    "Country_Temp_Stats.head()"
   ]
  },
  {
   "cell_type": "code",
   "execution_count": null,
   "metadata": {},
   "outputs": [],
   "source": [
    "#Create DF of Stats for Dissolved O2 - all years combined for each country\n",
    "O2 = clean['Unit of Measure'] == 'mg{O2}/L'\n",
    "\n",
    "Country_O2_Stats = clean[O2].groupby(['Country', 'GDP', 'Population Density']).agg({\n",
    "    'Value': ['mean', 'median', 'var', 'std', 'sem']\n",
    "}).reset_index()\n",
    "\n",
    "# Rename columns\n",
    "Country_O2_Stats.columns = ['Country', 'GDP', 'Population Density', 'Mean O2', 'Median O2', \n",
    "                    'O2 Variance', 'O2 Std. Dev.', 'O2 Std. Err.']\n",
    "Country_O2_Stats.head()"
   ]
  },
  {
   "cell_type": "code",
   "execution_count": null,
   "metadata": {},
   "outputs": [],
   "source": [
    "#Create DF of Stats for pH - all years combined for each country\n",
    "pH = clean['Unit of Measure'] == '[pH]'\n",
    "\n",
    "Country_pH_Stats = clean[pH].groupby(['Country', 'GDP', 'Population Density']).agg({\n",
    "    'Value': ['mean', 'median', 'var', 'std', 'sem']\n",
    "}).reset_index()\n",
    "\n",
    "# Rename columns\n",
    "Country_pH_Stats.columns = ['Country', 'GDP', 'Population Density', 'Mean pH', 'Median pH', \n",
    "                    'pH Variance', 'pH Std. Dev.', 'pH Std. Err.']\n",
    "Country_pH_Stats.head()"
   ]
  },
  {
   "cell_type": "code",
   "execution_count": null,
   "metadata": {},
   "outputs": [],
   "source": [
    "def LinReg(x_data, y_data, annotate_position):\n",
    "    slope, intercept, r, p, std_err=st.linregress(x_data, y_data)\n",
    "    fit=slope*x_axis+intercept\n",
    "    plt.plot(x_data, fit, '--', color='red', )\n",
    "    line_eq = \"y = \" + str(round(slope,2)) + \"x + \" + str(round(intercept,2))\n",
    "    plt.annotate(line_eq,(annotate_position),fontsize=15,color=\"red\")\n",
    "    print(f'The r-value is:{r}')"
   ]
  },
  {
   "cell_type": "code",
   "execution_count": null,
   "metadata": {},
   "outputs": [],
   "source": [
    "# Build scatter plot with regression line for GDP vs Mean Temp\n",
    "x_axis=Country_Temp_Stats['GDP']\n",
    "y_axis=Country_Temp_Stats['Mean Temp']\n",
    "plt.scatter(x_axis, y_axis, marker='o', facecolors='red', edgecolors='black', alpha=0.75)\n",
    "Poss=2.5e12, 7\n",
    "LinReg(x_axis, y_axis, Poss)\n",
    "plt.title('GDP vs. Mean Water Tempurature')\n",
    "plt.xlabel('GDP')\n",
    "plt.ylabel('Mean Water Tempurature (C)')\n",
    "# Save the figure\n",
    "# plt.savefig(\"output_data/GDP_MeanTemp_ScatterRegression.png\")\n",
    "plt.show()"
   ]
  },
  {
   "cell_type": "code",
   "execution_count": null,
   "metadata": {},
   "outputs": [],
   "source": [
    "# Build scatter plot with regression line for GDP vs Mean pH\n",
    "x_axis=Country_pH_Stats['GDP']\n",
    "y_axis=Country_pH_Stats['Mean pH']\n",
    "plt.axhline(y=6.5, color='gray', linestyle='-', alpha=0.5)\n",
    "plt.axhline(y=9, color='gray', linestyle='-', alpha=0.5)\n",
    "plt.scatter(x_axis, y_axis, marker='o', facecolors='green', edgecolors='black', alpha=0.75)\n",
    "Poss=2.5e12, 7\n",
    "LinReg(x_axis, y_axis, Poss)\n",
    "plt.title('GDP vs. Mean pH')\n",
    "plt.xlabel('GDP')\n",
    "plt.ylabel('Mean pH')\n",
    "# Save the figure\n",
    "# plt.savefig(\"output_data/GDP_MeanpH_ScatterRegression.png\")\n",
    "plt.show()"
   ]
  },
  {
   "cell_type": "code",
   "execution_count": null,
   "metadata": {},
   "outputs": [],
   "source": [
    "# Build scatter plot with regression line for GDP vs Dissolved 0xygen\n",
    "x_axis=Country_O2_Stats['GDP']\n",
    "y_axis=Country_O2_Stats['Mean O2']\n",
    "plt.axhline(y=6, color='gray', linestyle='-', alpha=0.5)\n",
    "plt.axhline(y=2, color='gray', linestyle='-', alpha=0.5)\n",
    "plt.scatter(x_axis, y_axis, marker='o', facecolors='blue', edgecolors='black', alpha=0.75)\n",
    "Poss=2.5e12, 7\n",
    "LinReg(x_axis, y_axis, Poss)\n",
    "plt.title('GDP vs. Mean Dissolved Oxygen')\n",
    "plt.xlabel('GDP')\n",
    "plt.ylabel('Mean Dissolved Oxygen (mg/L)')\n",
    "# Save the figure\n",
    "# plt.savefig(\"output_data/GDP_MeanO2_ScatterRegression.png\")\n",
    "plt.show()"
   ]
  },
  {
   "cell_type": "code",
   "execution_count": null,
   "metadata": {},
   "outputs": [],
   "source": []
  }
 ],
 "metadata": {
  "kernelspec": {
   "display_name": "base",
   "language": "python",
   "name": "python3"
  },
  "language_info": {
   "codemirror_mode": {
    "name": "ipython",
    "version": 3
   },
   "file_extension": ".py",
   "mimetype": "text/x-python",
   "name": "python",
   "nbconvert_exporter": "python",
   "pygments_lexer": "ipython3",
   "version": "3.10.13"
  }
 },
 "nbformat": 4,
 "nbformat_minor": 2
}
